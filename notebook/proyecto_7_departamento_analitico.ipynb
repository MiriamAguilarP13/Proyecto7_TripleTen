{
 "cells": [
  {
   "cell_type": "markdown",
   "metadata": {},
   "source": [
    "# Análisis de Y.Afisha\n",
    "\n",
    "# Descripción del proyecto\n",
    "Haciendo prácticas en el departamento analítico de Y.Afisha. Tu primera tarea es ayudar a optimizar los gastos de marketing.  \n",
    "Se dispone de:  \n",
    "-- Registros del servidor con datos sobre las visitas a Y.Afisha desde  de 2017 hasta  2018.  \n",
    "-- Archivos con todos los pedidos del período.  \n",
    "-- Estadísticas de gastos de marketing."
   ]
  },
  {
   "cell_type": "markdown",
   "metadata": {},
   "source": [
    "# Contenido\n",
    "\n",
    "* [Objetivos](#objetivos)\n",
    "* [Etapas](#etapas)\n",
    "* [Diccionario de Datos](#diccionario)\n",
    "* [1 Inicialización](#inicio)\n",
    "* [2 Cargar datos](#cargar_datos)\n",
    "    * [2.1 Descarga de una pequeña porción de datos](#porcion)\n",
    "    * [2.2 Descarga Completa de Datos Optimizados](#datos_op)\n",
    "    * [2.3 Estilo del encabezado](#header_style)\n",
    "* [3 Informe del Producto ](#informe_producto)\n",
    "* [4 Informe de Ventas](#informe_ventas)\n",
    "* [5 Informe de Marketing](#informe_marketing)\n",
    "* [6 Resumen y Conclusión General](#end)"
   ]
  },
  {
   "cell_type": "markdown",
   "metadata": {},
   "source": [
    "# Objetivos <a id='objetivos'></a>  \n",
    "\n",
    "* Obtener una comprensión general de los datos.  \n",
    "* Identificar tendencias y patrones importantes.  \n",
    "* Preparar los datos para un análisis más detallado.  \n",
    "* Cómo la gente usa el producto.  \n",
    "* Cuándo empiezan a comprar.  \n",
    "* Cuánto dinero trae cada cliente.\n"
   ]
  },
  {
   "cell_type": "markdown",
   "metadata": {},
   "source": [
    "# Etapas <a id='etapas'></a>  \n",
    "\n",
    "Se tiene un dataset con la información necesaria sobre el departamento analítico de Y.Afisha, no hay información previa sobre la calidad de los datos, por lo tanto se revisará antes de comenzar a analizar los datos. \n",
    "\n",
    "Pasos a realizar:\n",
    "1. Importar las librerías necesarias\n",
    "2. Descripción de los datos, leer y guardar el Dataset con Pandas de manera optimizada.  \n",
    "3. Procesamiento de los datos, preparar los datos para que sean analizados.\n",
    "4. Análisis de datos y creación de gráficos."
   ]
  },
  {
   "cell_type": "markdown",
   "metadata": {},
   "source": [
    "# Diccionario de Datos <a id='diccionario'></a>   \n",
    "\n",
    "* La tabla visits (registros del servidor con datos sobre las visitas al sitio web):  \n",
    "    * Uid: identificador único del usuario;  \n",
    "    * Device: dispositivo del usuario;  \n",
    "    * Start Ts: fecha y hora de inicio de la sesión;  \n",
    "    * End Ts: fecha y hora de término de la sesión;  \n",
    "    * Source Id: identificador de la fuente de anuncios de la que proviene el usuario.  \n",
    "    * Todas las fechas de esta tabla están en formato AAAA-MM-DD.  \n",
    "* La tabla orders (datos sobre pedidos):  \n",
    "    * Uid: identificador único del usuario que realiza un pedido;  \n",
    "    * Buy Ts: fecha y hora del pedido;  \n",
    "    * Revenue: ingresos de Y.Afisha de este pedido.  \n",
    "* La tabla costs (datos sobre gastos de marketing):  \n",
    "    * source_id: identificador de la fuente de anuncios  \n",
    "    * dt: fecha;  \n",
    "    * costs: gastos en esta fuente de anuncios en este día."
   ]
  },
  {
   "cell_type": "markdown",
   "metadata": {},
   "source": [
    "## Inicialización <a id='inicio'></a>"
   ]
  },
  {
   "cell_type": "code",
   "execution_count": 77,
   "metadata": {},
   "outputs": [],
   "source": [
    "# se cargan todas las librerías\n",
    "import pandas as pd\n",
    "import numpy as np\n",
    "import seaborn as sns\n",
    "from matplotlib import pyplot as plt"
   ]
  },
  {
   "cell_type": "markdown",
   "metadata": {},
   "source": [
    "## Cargar datos <a id='cargar_datos'></a>"
   ]
  },
  {
   "cell_type": "markdown",
   "metadata": {},
   "source": [
    "### Descarga de una pequeña porción de datos <a id='porcion'></a>"
   ]
  },
  {
   "cell_type": "code",
   "execution_count": 2,
   "metadata": {},
   "outputs": [],
   "source": [
    "# se descargan las primeras 200 filas de cada archivo para revisar que cada columna contenga el tipo de datos correcto\n",
    "# Y con base en lo anterior optimizar los datos para el análisis\n",
    "\n",
    "visits_log_us = pd.read_csv('files/datasets/visits_log_us.csv', nrows=200)\n",
    "orders_log_us = pd.read_csv('files/datasets/orders_log_us.csv', nrows=200)\n",
    "costs_us = pd.read_csv('files/datasets/costs_us.csv', nrows=200)"
   ]
  },
  {
   "cell_type": "markdown",
   "metadata": {},
   "source": [
    "<div style=\"background-color: lightyellow; padding: 10px;\">\n",
    "\n",
    "<span style=\"color: darkblue;\">  \n",
    "    \n",
    "Se imprimen las primeras 5 filas de cada DataFrame y despues la información con `info()` para revisar el tipo de dato para cada columna.\n",
    "    \n",
    "</span>\n",
    "    \n",
    "</div>\n"
   ]
  },
  {
   "cell_type": "code",
   "execution_count": 3,
   "metadata": {},
   "outputs": [
    {
     "data": {
      "text/html": [
       "<div>\n",
       "<style scoped>\n",
       "    .dataframe tbody tr th:only-of-type {\n",
       "        vertical-align: middle;\n",
       "    }\n",
       "\n",
       "    .dataframe tbody tr th {\n",
       "        vertical-align: top;\n",
       "    }\n",
       "\n",
       "    .dataframe thead th {\n",
       "        text-align: right;\n",
       "    }\n",
       "</style>\n",
       "<table border=\"1\" class=\"dataframe\">\n",
       "  <thead>\n",
       "    <tr style=\"text-align: right;\">\n",
       "      <th></th>\n",
       "      <th>Device</th>\n",
       "      <th>End Ts</th>\n",
       "      <th>Source Id</th>\n",
       "      <th>Start Ts</th>\n",
       "      <th>Uid</th>\n",
       "    </tr>\n",
       "  </thead>\n",
       "  <tbody>\n",
       "    <tr>\n",
       "      <th>0</th>\n",
       "      <td>touch</td>\n",
       "      <td>2017-12-20 17:38:00</td>\n",
       "      <td>4</td>\n",
       "      <td>2017-12-20 17:20:00</td>\n",
       "      <td>16879256277535980062</td>\n",
       "    </tr>\n",
       "    <tr>\n",
       "      <th>1</th>\n",
       "      <td>desktop</td>\n",
       "      <td>2018-02-19 17:21:00</td>\n",
       "      <td>2</td>\n",
       "      <td>2018-02-19 16:53:00</td>\n",
       "      <td>104060357244891740</td>\n",
       "    </tr>\n",
       "    <tr>\n",
       "      <th>2</th>\n",
       "      <td>touch</td>\n",
       "      <td>2017-07-01 01:54:00</td>\n",
       "      <td>5</td>\n",
       "      <td>2017-07-01 01:54:00</td>\n",
       "      <td>7459035603376831527</td>\n",
       "    </tr>\n",
       "    <tr>\n",
       "      <th>3</th>\n",
       "      <td>desktop</td>\n",
       "      <td>2018-05-20 11:23:00</td>\n",
       "      <td>9</td>\n",
       "      <td>2018-05-20 10:59:00</td>\n",
       "      <td>16174680259334210214</td>\n",
       "    </tr>\n",
       "    <tr>\n",
       "      <th>4</th>\n",
       "      <td>desktop</td>\n",
       "      <td>2017-12-27 14:06:00</td>\n",
       "      <td>3</td>\n",
       "      <td>2017-12-27 14:06:00</td>\n",
       "      <td>9969694820036681168</td>\n",
       "    </tr>\n",
       "  </tbody>\n",
       "</table>\n",
       "</div>"
      ],
      "text/plain": [
       "    Device               End Ts  Source Id             Start Ts  \\\n",
       "0    touch  2017-12-20 17:38:00          4  2017-12-20 17:20:00   \n",
       "1  desktop  2018-02-19 17:21:00          2  2018-02-19 16:53:00   \n",
       "2    touch  2017-07-01 01:54:00          5  2017-07-01 01:54:00   \n",
       "3  desktop  2018-05-20 11:23:00          9  2018-05-20 10:59:00   \n",
       "4  desktop  2017-12-27 14:06:00          3  2017-12-27 14:06:00   \n",
       "\n",
       "                    Uid  \n",
       "0  16879256277535980062  \n",
       "1    104060357244891740  \n",
       "2   7459035603376831527  \n",
       "3  16174680259334210214  \n",
       "4   9969694820036681168  "
      ]
     },
     "execution_count": 3,
     "metadata": {},
     "output_type": "execute_result"
    }
   ],
   "source": [
    "# DataFrame sobre las visitas\n",
    "visits_log_us.head()"
   ]
  },
  {
   "cell_type": "code",
   "execution_count": 4,
   "metadata": {},
   "outputs": [
    {
     "name": "stdout",
     "output_type": "stream",
     "text": [
      "<class 'pandas.core.frame.DataFrame'>\n",
      "RangeIndex: 200 entries, 0 to 199\n",
      "Data columns (total 5 columns):\n",
      " #   Column     Non-Null Count  Dtype \n",
      "---  ------     --------------  ----- \n",
      " 0   Device     200 non-null    object\n",
      " 1   End Ts     200 non-null    object\n",
      " 2   Source Id  200 non-null    int64 \n",
      " 3   Start Ts   200 non-null    object\n",
      " 4   Uid        200 non-null    uint64\n",
      "dtypes: int64(1), object(3), uint64(1)\n",
      "memory usage: 7.9+ KB\n"
     ]
    }
   ],
   "source": [
    "# DataFrame sobre las visitas\n",
    "visits_log_us.info()"
   ]
  },
  {
   "cell_type": "code",
   "execution_count": 5,
   "metadata": {},
   "outputs": [
    {
     "data": {
      "text/html": [
       "<div>\n",
       "<style scoped>\n",
       "    .dataframe tbody tr th:only-of-type {\n",
       "        vertical-align: middle;\n",
       "    }\n",
       "\n",
       "    .dataframe tbody tr th {\n",
       "        vertical-align: top;\n",
       "    }\n",
       "\n",
       "    .dataframe thead th {\n",
       "        text-align: right;\n",
       "    }\n",
       "</style>\n",
       "<table border=\"1\" class=\"dataframe\">\n",
       "  <thead>\n",
       "    <tr style=\"text-align: right;\">\n",
       "      <th></th>\n",
       "      <th>Buy Ts</th>\n",
       "      <th>Revenue</th>\n",
       "      <th>Uid</th>\n",
       "    </tr>\n",
       "  </thead>\n",
       "  <tbody>\n",
       "    <tr>\n",
       "      <th>0</th>\n",
       "      <td>2017-06-01 00:10:00</td>\n",
       "      <td>17.00</td>\n",
       "      <td>10329302124590727494</td>\n",
       "    </tr>\n",
       "    <tr>\n",
       "      <th>1</th>\n",
       "      <td>2017-06-01 00:25:00</td>\n",
       "      <td>0.55</td>\n",
       "      <td>11627257723692907447</td>\n",
       "    </tr>\n",
       "    <tr>\n",
       "      <th>2</th>\n",
       "      <td>2017-06-01 00:27:00</td>\n",
       "      <td>0.37</td>\n",
       "      <td>17903680561304213844</td>\n",
       "    </tr>\n",
       "    <tr>\n",
       "      <th>3</th>\n",
       "      <td>2017-06-01 00:29:00</td>\n",
       "      <td>0.55</td>\n",
       "      <td>16109239769442553005</td>\n",
       "    </tr>\n",
       "    <tr>\n",
       "      <th>4</th>\n",
       "      <td>2017-06-01 07:58:00</td>\n",
       "      <td>0.37</td>\n",
       "      <td>14200605875248379450</td>\n",
       "    </tr>\n",
       "  </tbody>\n",
       "</table>\n",
       "</div>"
      ],
      "text/plain": [
       "                Buy Ts  Revenue                   Uid\n",
       "0  2017-06-01 00:10:00    17.00  10329302124590727494\n",
       "1  2017-06-01 00:25:00     0.55  11627257723692907447\n",
       "2  2017-06-01 00:27:00     0.37  17903680561304213844\n",
       "3  2017-06-01 00:29:00     0.55  16109239769442553005\n",
       "4  2017-06-01 07:58:00     0.37  14200605875248379450"
      ]
     },
     "execution_count": 5,
     "metadata": {},
     "output_type": "execute_result"
    }
   ],
   "source": [
    "# DataFrame sobre las ordenes\n",
    "orders_log_us.head()"
   ]
  },
  {
   "cell_type": "code",
   "execution_count": 6,
   "metadata": {},
   "outputs": [
    {
     "name": "stdout",
     "output_type": "stream",
     "text": [
      "<class 'pandas.core.frame.DataFrame'>\n",
      "RangeIndex: 200 entries, 0 to 199\n",
      "Data columns (total 3 columns):\n",
      " #   Column   Non-Null Count  Dtype  \n",
      "---  ------   --------------  -----  \n",
      " 0   Buy Ts   200 non-null    object \n",
      " 1   Revenue  200 non-null    float64\n",
      " 2   Uid      200 non-null    uint64 \n",
      "dtypes: float64(1), object(1), uint64(1)\n",
      "memory usage: 4.8+ KB\n"
     ]
    }
   ],
   "source": [
    "# DataFrame sobre las ordenes\n",
    "orders_log_us.info()"
   ]
  },
  {
   "cell_type": "code",
   "execution_count": 7,
   "metadata": {},
   "outputs": [
    {
     "data": {
      "text/html": [
       "<div>\n",
       "<style scoped>\n",
       "    .dataframe tbody tr th:only-of-type {\n",
       "        vertical-align: middle;\n",
       "    }\n",
       "\n",
       "    .dataframe tbody tr th {\n",
       "        vertical-align: top;\n",
       "    }\n",
       "\n",
       "    .dataframe thead th {\n",
       "        text-align: right;\n",
       "    }\n",
       "</style>\n",
       "<table border=\"1\" class=\"dataframe\">\n",
       "  <thead>\n",
       "    <tr style=\"text-align: right;\">\n",
       "      <th></th>\n",
       "      <th>source_id</th>\n",
       "      <th>dt</th>\n",
       "      <th>costs</th>\n",
       "    </tr>\n",
       "  </thead>\n",
       "  <tbody>\n",
       "    <tr>\n",
       "      <th>0</th>\n",
       "      <td>1</td>\n",
       "      <td>2017-06-01</td>\n",
       "      <td>75.20</td>\n",
       "    </tr>\n",
       "    <tr>\n",
       "      <th>1</th>\n",
       "      <td>1</td>\n",
       "      <td>2017-06-02</td>\n",
       "      <td>62.25</td>\n",
       "    </tr>\n",
       "    <tr>\n",
       "      <th>2</th>\n",
       "      <td>1</td>\n",
       "      <td>2017-06-03</td>\n",
       "      <td>36.53</td>\n",
       "    </tr>\n",
       "    <tr>\n",
       "      <th>3</th>\n",
       "      <td>1</td>\n",
       "      <td>2017-06-04</td>\n",
       "      <td>55.00</td>\n",
       "    </tr>\n",
       "    <tr>\n",
       "      <th>4</th>\n",
       "      <td>1</td>\n",
       "      <td>2017-06-05</td>\n",
       "      <td>57.08</td>\n",
       "    </tr>\n",
       "  </tbody>\n",
       "</table>\n",
       "</div>"
      ],
      "text/plain": [
       "   source_id          dt  costs\n",
       "0          1  2017-06-01  75.20\n",
       "1          1  2017-06-02  62.25\n",
       "2          1  2017-06-03  36.53\n",
       "3          1  2017-06-04  55.00\n",
       "4          1  2017-06-05  57.08"
      ]
     },
     "execution_count": 7,
     "metadata": {},
     "output_type": "execute_result"
    }
   ],
   "source": [
    "# DataFrame sobre los costos\n",
    "costs_us.head()"
   ]
  },
  {
   "cell_type": "code",
   "execution_count": 8,
   "metadata": {},
   "outputs": [
    {
     "name": "stdout",
     "output_type": "stream",
     "text": [
      "<class 'pandas.core.frame.DataFrame'>\n",
      "RangeIndex: 200 entries, 0 to 199\n",
      "Data columns (total 3 columns):\n",
      " #   Column     Non-Null Count  Dtype  \n",
      "---  ------     --------------  -----  \n",
      " 0   source_id  200 non-null    int64  \n",
      " 1   dt         200 non-null    object \n",
      " 2   costs      200 non-null    float64\n",
      "dtypes: float64(1), int64(1), object(1)\n",
      "memory usage: 4.8+ KB\n"
     ]
    }
   ],
   "source": [
    "costs_us.info()"
   ]
  },
  {
   "cell_type": "markdown",
   "metadata": {},
   "source": [
    "<div style=\"background-color: lightyellow; padding: 10px;\">\n",
    "\n",
    "<span style=\"color: darkblue;\">  \n",
    "    \n",
    "Cada DataFrame tiene columnas con tipo de datos object y son columnas que tienen fechas, sólo la columna `Device` del DataFrame `visits_log_us` no son fechas, por lo tanto, para esta columna se revisará cuantas categorías tiene y se convertirá al tipo de dato 'category'. Las columnas de fecha se convertirán al tipo de dato datetime con `to_datetime`.\n",
    "    \n",
    "</span>\n",
    "    \n",
    "</div>"
   ]
  },
  {
   "cell_type": "code",
   "execution_count": 9,
   "metadata": {},
   "outputs": [
    {
     "data": {
      "text/plain": [
       "desktop    147\n",
       "touch       53\n",
       "Name: Device, dtype: int64"
      ]
     },
     "execution_count": 9,
     "metadata": {},
     "output_type": "execute_result"
    }
   ],
   "source": [
    "# se busca la cantidad de valores únicos en la columna 'Device' del DataFrame 'visits_log_us' \n",
    "# se emplea el método value_counts()\n",
    "visits_log_us['Device'].value_counts()"
   ]
  },
  {
   "cell_type": "markdown",
   "metadata": {},
   "source": [
    "<div style=\"background-color: lightyellow; padding: 10px;\">\n",
    "\n",
    "<span style=\"color: darkblue;\">  \n",
    "    \n",
    "Sólo se tienen dos categorías, entonces cuando se descarguen todos los datos de cada DataFrame se hará con los tipos de datos correctos.  \n",
    "También, en los DataFrame `visits_log_us` y `orders_log_us` los nombres de las columnas no tienen el formato **snake_case**, lo anterior se corrgirá en pasos posteriores.\n",
    "    \n",
    "</span>\n",
    "    \n",
    "</div>"
   ]
  },
  {
   "cell_type": "markdown",
   "metadata": {},
   "source": [
    "### Descarga Completa de Datos Optimizados  <a id='datos_op'></a>"
   ]
  },
  {
   "cell_type": "code",
   "execution_count": 10,
   "metadata": {},
   "outputs": [],
   "source": [
    "# se descargan los datos completos con los tipos de datos correctos\n",
    "visits_log_us = pd.read_csv('/datasets/visits_log_us.csv', dtype= {'Device': 'category'}, parse_dates= ['Start Ts', 'End Ts'])\n",
    "orders_log_us = pd.read_csv('/datasets/orders_log_us.csv', parse_dates= ['Buy Ts'])\n",
    "costs_us = pd.read_csv('/datasets/costs_us.csv', parse_dates= ['dt'])"
   ]
  },
  {
   "cell_type": "code",
   "execution_count": 11,
   "metadata": {},
   "outputs": [
    {
     "name": "stdout",
     "output_type": "stream",
     "text": [
      "<class 'pandas.core.frame.DataFrame'>\n",
      "RangeIndex: 359400 entries, 0 to 359399\n",
      "Data columns (total 5 columns):\n",
      " #   Column     Non-Null Count   Dtype         \n",
      "---  ------     --------------   -----         \n",
      " 0   Device     359400 non-null  category      \n",
      " 1   End Ts     359400 non-null  datetime64[ns]\n",
      " 2   Source Id  359400 non-null  int64         \n",
      " 3   Start Ts   359400 non-null  datetime64[ns]\n",
      " 4   Uid        359400 non-null  uint64        \n",
      "dtypes: category(1), datetime64[ns](2), int64(1), uint64(1)\n",
      "memory usage: 11.3 MB\n"
     ]
    }
   ],
   "source": [
    "#se revisa la información de los datos de las visitas\n",
    "visits_log_us.info()"
   ]
  },
  {
   "cell_type": "code",
   "execution_count": 12,
   "metadata": {},
   "outputs": [
    {
     "name": "stdout",
     "output_type": "stream",
     "text": [
      "<class 'pandas.core.frame.DataFrame'>\n",
      "RangeIndex: 50415 entries, 0 to 50414\n",
      "Data columns (total 3 columns):\n",
      " #   Column   Non-Null Count  Dtype         \n",
      "---  ------   --------------  -----         \n",
      " 0   Buy Ts   50415 non-null  datetime64[ns]\n",
      " 1   Revenue  50415 non-null  float64       \n",
      " 2   Uid      50415 non-null  uint64        \n",
      "dtypes: datetime64[ns](1), float64(1), uint64(1)\n",
      "memory usage: 1.2 MB\n"
     ]
    }
   ],
   "source": [
    "#se revisa la información de los datos de las ordenes\n",
    "orders_log_us.info()"
   ]
  },
  {
   "cell_type": "code",
   "execution_count": 13,
   "metadata": {
    "scrolled": true
   },
   "outputs": [
    {
     "name": "stdout",
     "output_type": "stream",
     "text": [
      "<class 'pandas.core.frame.DataFrame'>\n",
      "RangeIndex: 2542 entries, 0 to 2541\n",
      "Data columns (total 3 columns):\n",
      " #   Column     Non-Null Count  Dtype         \n",
      "---  ------     --------------  -----         \n",
      " 0   source_id  2542 non-null   int64         \n",
      " 1   dt         2542 non-null   datetime64[ns]\n",
      " 2   costs      2542 non-null   float64       \n",
      "dtypes: datetime64[ns](1), float64(1), int64(1)\n",
      "memory usage: 59.7 KB\n"
     ]
    }
   ],
   "source": [
    "#se revisa la información de los datos de los costos\n",
    "costs_us.info()"
   ]
  },
  {
   "cell_type": "markdown",
   "metadata": {},
   "source": [
    "### Estilo del encabezado <a id='header_style'></a>"
   ]
  },
  {
   "cell_type": "markdown",
   "metadata": {},
   "source": [
    "<div style=\"background-color: lightyellow; padding: 10px;\">\n",
    "\n",
    "<span style=\"color: darkblue;\">  \n",
    "    \n",
    "Se cambian los encabezados de los DataFrame `visits_log_us` y `orders_log_us` con el formato snake_case.  \n",
    "    \n",
    "</span>\n",
    "    \n",
    "</div>"
   ]
  },
  {
   "cell_type": "code",
   "execution_count": 14,
   "metadata": {},
   "outputs": [
    {
     "data": {
      "text/plain": [
       "Index(['Device', 'End Ts', 'Source Id', 'Start Ts', 'Uid'], dtype='object')"
      ]
     },
     "execution_count": 14,
     "metadata": {},
     "output_type": "execute_result"
    }
   ],
   "source": [
    "#  se usa el atributo columns para obtener una lista con los nombres de las columnas de 'visits_log_us'\n",
    "col_names_visits = visits_log_us.columns\n",
    "col_names_visits"
   ]
  },
  {
   "cell_type": "code",
   "execution_count": 15,
   "metadata": {},
   "outputs": [
    {
     "data": {
      "text/plain": [
       "Index(['Buy Ts', 'Revenue', 'Uid'], dtype='object')"
      ]
     },
     "execution_count": 15,
     "metadata": {},
     "output_type": "execute_result"
    }
   ],
   "source": [
    "#  se usa el atributo columns para obtener una lista con los nombres de las columnas de 'orders_log_us'\n",
    "col_names_orders = orders_log_us.columns\n",
    "col_names_orders"
   ]
  },
  {
   "cell_type": "code",
   "execution_count": 16,
   "metadata": {},
   "outputs": [],
   "source": [
    "# se crea una función para cambiar los nombres de las columnas a minúscula y sustituir los espacios por '_'\n",
    "def underscore_lower_names(column_names):\n",
    "    '''\n",
    "    Función que pone los caracteres en minúscula y los espacios los reemplaza por guión bajo ('_').\n",
    "    '''\n",
    "    lower_col_names = [] # se define una nueva lista vacia para guardar los nuevos nombre de las columnas en minúscula\n",
    "    for col in column_names:\n",
    "        lower_names = col.lower()\n",
    "        lower_col_names.append(lower_names)\n",
    "    \n",
    "    under_col_names = [] # se define una nueva lista vacia para guardar los nuevos nombre de las columnas con '_'\n",
    "\n",
    "    for col in lower_col_names:\n",
    "        underscore_col_names = col.replace(' ', '_')\n",
    "        under_col_names.append(underscore_col_names)\n",
    "        \n",
    "    return under_col_names\n",
    "    "
   ]
  },
  {
   "cell_type": "code",
   "execution_count": 17,
   "metadata": {},
   "outputs": [
    {
     "data": {
      "text/plain": [
       "Index(['device', 'end_ts', 'source_id', 'start_ts', 'uid'], dtype='object')"
      ]
     },
     "execution_count": 17,
     "metadata": {},
     "output_type": "execute_result"
    }
   ],
   "source": [
    "# se corrigen los nombres de las columnas del DataFrame 'visits_log_us' \n",
    "new_visits_names = underscore_lower_names(col_names_visits)\n",
    "# Se asignan los nuevos nombres de columna\n",
    "visits_log_us.columns = new_visits_names\n",
    "visits_log_us.columns"
   ]
  },
  {
   "cell_type": "code",
   "execution_count": 18,
   "metadata": {},
   "outputs": [
    {
     "data": {
      "text/plain": [
       "Index(['buy_ts', 'revenue', 'uid'], dtype='object')"
      ]
     },
     "execution_count": 18,
     "metadata": {},
     "output_type": "execute_result"
    }
   ],
   "source": [
    "# se corrigen los nombres de las columnas del DataFrame 'orders_log_us' \n",
    "new_orders_names = underscore_lower_names(col_names_orders)\n",
    "# Se asignan los nuevos nombres de columna\n",
    "orders_log_us.columns = new_orders_names\n",
    "orders_log_us.columns"
   ]
  },
  {
   "cell_type": "markdown",
   "metadata": {},
   "source": [
    "### Valores ausentes y duplicados <a id='missing_duplicated_values'></a>"
   ]
  },
  {
   "cell_type": "markdown",
   "metadata": {},
   "source": [
    "<div style=\"background-color: lightyellow; padding: 10px;\">\n",
    "\n",
    "<span style=\"color: darkblue;\">  \n",
    "    \n",
    "Se verifica si hay valores ausentes y duplicados para cada DataFrame.\n",
    "    \n",
    "</span>\n",
    "    \n",
    "</div>\n"
   ]
  },
  {
   "cell_type": "code",
   "execution_count": 19,
   "metadata": {},
   "outputs": [
    {
     "data": {
      "text/plain": [
       "device       0\n",
       "end_ts       0\n",
       "source_id    0\n",
       "start_ts     0\n",
       "uid          0\n",
       "dtype: int64"
      ]
     },
     "execution_count": 19,
     "metadata": {},
     "output_type": "execute_result"
    }
   ],
   "source": [
    "# Valores ausentes en el DataFrame de visitas\n",
    "visits_log_us.isna().sum()"
   ]
  },
  {
   "cell_type": "code",
   "execution_count": 20,
   "metadata": {},
   "outputs": [
    {
     "data": {
      "text/plain": [
       "0"
      ]
     },
     "execution_count": 20,
     "metadata": {},
     "output_type": "execute_result"
    }
   ],
   "source": [
    "# Valores duplicados en el DataFrame de visitas\n",
    "visits_log_us.duplicated().sum()"
   ]
  },
  {
   "cell_type": "code",
   "execution_count": 21,
   "metadata": {},
   "outputs": [
    {
     "data": {
      "text/plain": [
       "buy_ts     0\n",
       "revenue    0\n",
       "uid        0\n",
       "dtype: int64"
      ]
     },
     "execution_count": 21,
     "metadata": {},
     "output_type": "execute_result"
    }
   ],
   "source": [
    "# Valores ausentes en el DataFrame de ordenes\n",
    "orders_log_us.isna().sum()"
   ]
  },
  {
   "cell_type": "code",
   "execution_count": 22,
   "metadata": {},
   "outputs": [
    {
     "data": {
      "text/plain": [
       "0"
      ]
     },
     "execution_count": 22,
     "metadata": {},
     "output_type": "execute_result"
    }
   ],
   "source": [
    "# Valores duplicados en el DataFrame de ordenes\n",
    "orders_log_us.duplicated().sum()"
   ]
  },
  {
   "cell_type": "code",
   "execution_count": 23,
   "metadata": {},
   "outputs": [
    {
     "data": {
      "text/plain": [
       "source_id    0\n",
       "dt           0\n",
       "costs        0\n",
       "dtype: int64"
      ]
     },
     "execution_count": 23,
     "metadata": {},
     "output_type": "execute_result"
    }
   ],
   "source": [
    "# Valores ausentes en el DataFrame de costos\n",
    "costs_us.isna().sum()"
   ]
  },
  {
   "cell_type": "code",
   "execution_count": 24,
   "metadata": {},
   "outputs": [
    {
     "data": {
      "text/plain": [
       "0"
      ]
     },
     "execution_count": 24,
     "metadata": {},
     "output_type": "execute_result"
    }
   ],
   "source": [
    "# Valores duplicados en el DataFrame de costos\n",
    "costs_us.duplicated().sum()"
   ]
  },
  {
   "cell_type": "markdown",
   "metadata": {},
   "source": [
    "<div style=\"background-color: lightyellow; padding: 10px;\">\n",
    "\n",
    "<span style=\"color: darkblue;\">  \n",
    "    \n",
    "No hay valores ausentes ni duplicados en los DataFrame, por lo tanto los datos están listos para su análisis.\n",
    "    \n",
    "</span>\n",
    "    \n",
    "</div>"
   ]
  },
  {
   "cell_type": "markdown",
   "metadata": {},
   "source": [
    "## Informe del Producto <a id='informe_producto'></a>"
   ]
  },
  {
   "cell_type": "code",
   "execution_count": 25,
   "metadata": {},
   "outputs": [
    {
     "data": {
      "text/html": [
       "<div>\n",
       "<style scoped>\n",
       "    .dataframe tbody tr th:only-of-type {\n",
       "        vertical-align: middle;\n",
       "    }\n",
       "\n",
       "    .dataframe tbody tr th {\n",
       "        vertical-align: top;\n",
       "    }\n",
       "\n",
       "    .dataframe thead th {\n",
       "        text-align: right;\n",
       "    }\n",
       "</style>\n",
       "<table border=\"1\" class=\"dataframe\">\n",
       "  <thead>\n",
       "    <tr style=\"text-align: right;\">\n",
       "      <th></th>\n",
       "      <th>device</th>\n",
       "      <th>end_ts</th>\n",
       "      <th>source_id</th>\n",
       "      <th>start_ts</th>\n",
       "      <th>uid</th>\n",
       "    </tr>\n",
       "  </thead>\n",
       "  <tbody>\n",
       "    <tr>\n",
       "      <th>0</th>\n",
       "      <td>touch</td>\n",
       "      <td>2017-12-20 17:38:00</td>\n",
       "      <td>4</td>\n",
       "      <td>2017-12-20 17:20:00</td>\n",
       "      <td>16879256277535980062</td>\n",
       "    </tr>\n",
       "    <tr>\n",
       "      <th>1</th>\n",
       "      <td>desktop</td>\n",
       "      <td>2018-02-19 17:21:00</td>\n",
       "      <td>2</td>\n",
       "      <td>2018-02-19 16:53:00</td>\n",
       "      <td>104060357244891740</td>\n",
       "    </tr>\n",
       "    <tr>\n",
       "      <th>2</th>\n",
       "      <td>touch</td>\n",
       "      <td>2017-07-01 01:54:00</td>\n",
       "      <td>5</td>\n",
       "      <td>2017-07-01 01:54:00</td>\n",
       "      <td>7459035603376831527</td>\n",
       "    </tr>\n",
       "    <tr>\n",
       "      <th>3</th>\n",
       "      <td>desktop</td>\n",
       "      <td>2018-05-20 11:23:00</td>\n",
       "      <td>9</td>\n",
       "      <td>2018-05-20 10:59:00</td>\n",
       "      <td>16174680259334210214</td>\n",
       "    </tr>\n",
       "    <tr>\n",
       "      <th>4</th>\n",
       "      <td>desktop</td>\n",
       "      <td>2017-12-27 14:06:00</td>\n",
       "      <td>3</td>\n",
       "      <td>2017-12-27 14:06:00</td>\n",
       "      <td>9969694820036681168</td>\n",
       "    </tr>\n",
       "  </tbody>\n",
       "</table>\n",
       "</div>"
      ],
      "text/plain": [
       "    device              end_ts  source_id            start_ts  \\\n",
       "0    touch 2017-12-20 17:38:00          4 2017-12-20 17:20:00   \n",
       "1  desktop 2018-02-19 17:21:00          2 2018-02-19 16:53:00   \n",
       "2    touch 2017-07-01 01:54:00          5 2017-07-01 01:54:00   \n",
       "3  desktop 2018-05-20 11:23:00          9 2018-05-20 10:59:00   \n",
       "4  desktop 2017-12-27 14:06:00          3 2017-12-27 14:06:00   \n",
       "\n",
       "                    uid  \n",
       "0  16879256277535980062  \n",
       "1    104060357244891740  \n",
       "2   7459035603376831527  \n",
       "3  16174680259334210214  \n",
       "4   9969694820036681168  "
      ]
     },
     "execution_count": 25,
     "metadata": {},
     "output_type": "execute_result"
    }
   ],
   "source": [
    "# se imprimen las 5 filas del DataFrame visits_log_us\n",
    "visits_log_us.head()"
   ]
  },
  {
   "cell_type": "markdown",
   "metadata": {},
   "source": [
    "<div style=\"background-color: lightyellow; padding: 10px;\">\n",
    "\n",
    "<span style=\"color: darkblue;\">  \n",
    "    \n",
    "Para saber cuántas personas usan el sevidor cada día, semana y mes; primero se crea una columna para el año, mes, semana y día en el DataFrame `visits_log_us`. Con `dt` se extrae el dato de la fecha de interes.\n",
    "    \n",
    "</span>\n",
    "    \n",
    "</div>"
   ]
  },
  {
   "cell_type": "code",
   "execution_count": 26,
   "metadata": {},
   "outputs": [],
   "source": [
    "# se crean las nuevas columnas\n",
    "visits_log_us['session_year'] = visits_log_us['start_ts'].dt.year\n",
    "visits_log_us['session_month'] = visits_log_us['start_ts'].dt.month\n",
    "visits_log_us['session_week'] = visits_log_us['start_ts'].dt.isocalendar().week\n",
    "visits_log_us['session_date'] = visits_log_us['start_ts'].dt.date"
   ]
  },
  {
   "cell_type": "code",
   "execution_count": 27,
   "metadata": {},
   "outputs": [
    {
     "data": {
      "text/html": [
       "<div>\n",
       "<style scoped>\n",
       "    .dataframe tbody tr th:only-of-type {\n",
       "        vertical-align: middle;\n",
       "    }\n",
       "\n",
       "    .dataframe tbody tr th {\n",
       "        vertical-align: top;\n",
       "    }\n",
       "\n",
       "    .dataframe thead th {\n",
       "        text-align: right;\n",
       "    }\n",
       "</style>\n",
       "<table border=\"1\" class=\"dataframe\">\n",
       "  <thead>\n",
       "    <tr style=\"text-align: right;\">\n",
       "      <th></th>\n",
       "      <th>device</th>\n",
       "      <th>end_ts</th>\n",
       "      <th>source_id</th>\n",
       "      <th>start_ts</th>\n",
       "      <th>uid</th>\n",
       "      <th>session_year</th>\n",
       "      <th>session_month</th>\n",
       "      <th>session_week</th>\n",
       "      <th>session_date</th>\n",
       "    </tr>\n",
       "  </thead>\n",
       "  <tbody>\n",
       "    <tr>\n",
       "      <th>0</th>\n",
       "      <td>touch</td>\n",
       "      <td>2017-12-20 17:38:00</td>\n",
       "      <td>4</td>\n",
       "      <td>2017-12-20 17:20:00</td>\n",
       "      <td>16879256277535980062</td>\n",
       "      <td>2017</td>\n",
       "      <td>12</td>\n",
       "      <td>51</td>\n",
       "      <td>2017-12-20</td>\n",
       "    </tr>\n",
       "    <tr>\n",
       "      <th>1</th>\n",
       "      <td>desktop</td>\n",
       "      <td>2018-02-19 17:21:00</td>\n",
       "      <td>2</td>\n",
       "      <td>2018-02-19 16:53:00</td>\n",
       "      <td>104060357244891740</td>\n",
       "      <td>2018</td>\n",
       "      <td>2</td>\n",
       "      <td>8</td>\n",
       "      <td>2018-02-19</td>\n",
       "    </tr>\n",
       "    <tr>\n",
       "      <th>2</th>\n",
       "      <td>touch</td>\n",
       "      <td>2017-07-01 01:54:00</td>\n",
       "      <td>5</td>\n",
       "      <td>2017-07-01 01:54:00</td>\n",
       "      <td>7459035603376831527</td>\n",
       "      <td>2017</td>\n",
       "      <td>7</td>\n",
       "      <td>26</td>\n",
       "      <td>2017-07-01</td>\n",
       "    </tr>\n",
       "  </tbody>\n",
       "</table>\n",
       "</div>"
      ],
      "text/plain": [
       "    device              end_ts  source_id            start_ts  \\\n",
       "0    touch 2017-12-20 17:38:00          4 2017-12-20 17:20:00   \n",
       "1  desktop 2018-02-19 17:21:00          2 2018-02-19 16:53:00   \n",
       "2    touch 2017-07-01 01:54:00          5 2017-07-01 01:54:00   \n",
       "\n",
       "                    uid  session_year  session_month  session_week  \\\n",
       "0  16879256277535980062          2017             12            51   \n",
       "1    104060357244891740          2018              2             8   \n",
       "2   7459035603376831527          2017              7            26   \n",
       "\n",
       "  session_date  \n",
       "0   2017-12-20  \n",
       "1   2018-02-19  \n",
       "2   2017-07-01  "
      ]
     },
     "execution_count": 27,
     "metadata": {},
     "output_type": "execute_result"
    }
   ],
   "source": [
    "# se imprimen las 3 filas del DataFrame visits_log_us\n",
    "visits_log_us.head(3)"
   ]
  },
  {
   "cell_type": "markdown",
   "metadata": {},
   "source": [
    "<div style=\"background-color: lightyellow; padding: 10px;\">\n",
    "\n",
    "<span style=\"color: darkblue;\">  \n",
    "    \n",
    "Se calcula el número de usuarios que usan el servicio por día, mes y semana, que sería el DAU, MAU y WAU, respectivamente. \n",
    "- **DAU**: el número de usuarios activos diarios (únicos);\n",
    "- **WAU**: el número de usuarios activos semanales;\n",
    "- **MAU**: el número de usuarios activos mensuales.\n",
    "    \n",
    "</span>\n",
    "    \n",
    "</div>"
   ]
  },
  {
   "cell_type": "code",
   "execution_count": 28,
   "metadata": {},
   "outputs": [
    {
     "data": {
      "text/plain": [
       "uid    908.0\n",
       "dtype: float64"
      ]
     },
     "execution_count": 28,
     "metadata": {},
     "output_type": "execute_result"
    }
   ],
   "source": [
    "# Agruparemos los datos por fecha del día de la sesión y buscaremos la media\n",
    "dau_total = visits_log_us.groupby(['session_date']).agg({'uid': 'nunique'}).mean().round()\n",
    "dau_total"
   ]
  },
  {
   "cell_type": "code",
   "execution_count": 29,
   "metadata": {},
   "outputs": [
    {
     "data": {
      "text/plain": [
       "uid    5825.0\n",
       "dtype: float64"
      ]
     },
     "execution_count": 29,
     "metadata": {},
     "output_type": "execute_result"
    }
   ],
   "source": [
    "# Agruparemos los datos por semana de la sesión y buscaremos la media\n",
    "wau_total = visits_log_us.groupby(['session_week']).agg({'uid': 'nunique'}).mean().round()\n",
    "wau_total"
   ]
  },
  {
   "cell_type": "code",
   "execution_count": 30,
   "metadata": {},
   "outputs": [
    {
     "data": {
      "text/plain": [
       "uid    23228.0\n",
       "dtype: float64"
      ]
     },
     "execution_count": 30,
     "metadata": {},
     "output_type": "execute_result"
    }
   ],
   "source": [
    "# Agruparemos los datos por mes de la sesión y buscaremos la media\n",
    "mau_total = visits_log_us.groupby(['session_month']).agg({'uid': 'nunique'}).mean().round()\n",
    "mau_total"
   ]
  },
  {
   "cell_type": "markdown",
   "metadata": {},
   "source": [
    "<div style=\"background-color: lightyellow; padding: 10px;\">\n",
    "\n",
    "<span style=\"color: darkblue;\">  \n",
    "    \n",
    "Para saber con que frecuancia los usuarios y usuarias regresan, se calcula el Factor de Adherencia. Esta métrica nos dice qué tan leal es la audiencia, con qué frecuencia regresan a la aplicación o servicio. El factor de adherencia (sticky factor) se calcula: `DAU/WAU` o `DAU/MAU`.\n",
    "    \n",
    "</span>\n",
    "    \n",
    "</div>"
   ]
  },
  {
   "cell_type": "code",
   "execution_count": 31,
   "metadata": {},
   "outputs": [
    {
     "data": {
      "text/plain": [
       "uid    0.15588\n",
       "dtype: float64"
      ]
     },
     "execution_count": 31,
     "metadata": {},
     "output_type": "execute_result"
    }
   ],
   "source": [
    "# calcula el factor de adherencia semanal\n",
    "sticky_wau = dau_total / wau_total\n",
    "sticky_wau"
   ]
  },
  {
   "cell_type": "code",
   "execution_count": 32,
   "metadata": {
    "scrolled": true
   },
   "outputs": [
    {
     "data": {
      "text/plain": [
       "uid    0.039091\n",
       "dtype: float64"
      ]
     },
     "execution_count": 32,
     "metadata": {},
     "output_type": "execute_result"
    }
   ],
   "source": [
    "# calcula el factor de adherencia semanal\n",
    "sticky_mau = dau_total / mau_total\n",
    "sticky_mau"
   ]
  },
  {
   "cell_type": "markdown",
   "metadata": {},
   "source": [
    "<div style=\"background-color: lightyellow; padding: 10px;\">\n",
    "\n",
    "<span style=\"color: darkblue;\">  \n",
    "    \n",
    "Se calcula el número de sesiones por día y el número de usuarios por día. También la duración de cada sesión y el número de sesiones por usuario.\n",
    "    \n",
    "</span>\n",
    "    \n",
    "</div>"
   ]
  },
  {
   "cell_type": "code",
   "execution_count": 33,
   "metadata": {},
   "outputs": [
    {
     "data": {
      "text/html": [
       "<div>\n",
       "<style scoped>\n",
       "    .dataframe tbody tr th:only-of-type {\n",
       "        vertical-align: middle;\n",
       "    }\n",
       "\n",
       "    .dataframe tbody tr th {\n",
       "        vertical-align: top;\n",
       "    }\n",
       "\n",
       "    .dataframe thead th {\n",
       "        text-align: right;\n",
       "    }\n",
       "</style>\n",
       "<table border=\"1\" class=\"dataframe\">\n",
       "  <thead>\n",
       "    <tr style=\"text-align: right;\">\n",
       "      <th></th>\n",
       "      <th></th>\n",
       "      <th>n_sessions</th>\n",
       "      <th>n_users</th>\n",
       "    </tr>\n",
       "    <tr>\n",
       "      <th>session_year</th>\n",
       "      <th>session_date</th>\n",
       "      <th></th>\n",
       "      <th></th>\n",
       "    </tr>\n",
       "  </thead>\n",
       "  <tbody>\n",
       "    <tr>\n",
       "      <th rowspan=\"5\" valign=\"top\">2017</th>\n",
       "      <th>2017-06-01</th>\n",
       "      <td>664</td>\n",
       "      <td>605</td>\n",
       "    </tr>\n",
       "    <tr>\n",
       "      <th>2017-06-02</th>\n",
       "      <td>658</td>\n",
       "      <td>608</td>\n",
       "    </tr>\n",
       "    <tr>\n",
       "      <th>2017-06-03</th>\n",
       "      <td>477</td>\n",
       "      <td>445</td>\n",
       "    </tr>\n",
       "    <tr>\n",
       "      <th>2017-06-04</th>\n",
       "      <td>510</td>\n",
       "      <td>476</td>\n",
       "    </tr>\n",
       "    <tr>\n",
       "      <th>2017-06-05</th>\n",
       "      <td>893</td>\n",
       "      <td>820</td>\n",
       "    </tr>\n",
       "  </tbody>\n",
       "</table>\n",
       "</div>"
      ],
      "text/plain": [
       "                           n_sessions  n_users\n",
       "session_year session_date                     \n",
       "2017         2017-06-01           664      605\n",
       "             2017-06-02           658      608\n",
       "             2017-06-03           477      445\n",
       "             2017-06-04           510      476\n",
       "             2017-06-05           893      820"
      ]
     },
     "execution_count": 33,
     "metadata": {},
     "output_type": "execute_result"
    }
   ],
   "source": [
    "# se usa groupby() y la función agg() para contabilizar el total de las sesiones por día y \n",
    "# el número de usuarios únicos por día\n",
    "sessions_per_user = visits_log_us.groupby(['session_year', 'session_date']).agg({'uid': ['count', 'nunique']})\n",
    "# se renombran las columnas \n",
    "sessions_per_user.columns = ['n_sessions', 'n_users']\n",
    "# se imprimen 5 filas del resultado\n",
    "sessions_per_user.head()"
   ]
  },
  {
   "cell_type": "code",
   "execution_count": 34,
   "metadata": {},
   "outputs": [
    {
     "data": {
      "text/html": [
       "<div>\n",
       "<style scoped>\n",
       "    .dataframe tbody tr th:only-of-type {\n",
       "        vertical-align: middle;\n",
       "    }\n",
       "\n",
       "    .dataframe tbody tr th {\n",
       "        vertical-align: top;\n",
       "    }\n",
       "\n",
       "    .dataframe thead th {\n",
       "        text-align: right;\n",
       "    }\n",
       "</style>\n",
       "<table border=\"1\" class=\"dataframe\">\n",
       "  <thead>\n",
       "    <tr style=\"text-align: right;\">\n",
       "      <th></th>\n",
       "      <th></th>\n",
       "      <th>n_sessions</th>\n",
       "      <th>n_users</th>\n",
       "      <th>sess_per_user</th>\n",
       "    </tr>\n",
       "    <tr>\n",
       "      <th>session_year</th>\n",
       "      <th>session_date</th>\n",
       "      <th></th>\n",
       "      <th></th>\n",
       "      <th></th>\n",
       "    </tr>\n",
       "  </thead>\n",
       "  <tbody>\n",
       "    <tr>\n",
       "      <th rowspan=\"5\" valign=\"top\">2017</th>\n",
       "      <th>2017-06-01</th>\n",
       "      <td>664</td>\n",
       "      <td>605</td>\n",
       "      <td>1.097521</td>\n",
       "    </tr>\n",
       "    <tr>\n",
       "      <th>2017-06-02</th>\n",
       "      <td>658</td>\n",
       "      <td>608</td>\n",
       "      <td>1.082237</td>\n",
       "    </tr>\n",
       "    <tr>\n",
       "      <th>2017-06-03</th>\n",
       "      <td>477</td>\n",
       "      <td>445</td>\n",
       "      <td>1.071910</td>\n",
       "    </tr>\n",
       "    <tr>\n",
       "      <th>2017-06-04</th>\n",
       "      <td>510</td>\n",
       "      <td>476</td>\n",
       "      <td>1.071429</td>\n",
       "    </tr>\n",
       "    <tr>\n",
       "      <th>2017-06-05</th>\n",
       "      <td>893</td>\n",
       "      <td>820</td>\n",
       "      <td>1.089024</td>\n",
       "    </tr>\n",
       "  </tbody>\n",
       "</table>\n",
       "</div>"
      ],
      "text/plain": [
       "                           n_sessions  n_users  sess_per_user\n",
       "session_year session_date                                    \n",
       "2017         2017-06-01           664      605       1.097521\n",
       "             2017-06-02           658      608       1.082237\n",
       "             2017-06-03           477      445       1.071910\n",
       "             2017-06-04           510      476       1.071429\n",
       "             2017-06-05           893      820       1.089024"
      ]
     },
     "execution_count": 34,
     "metadata": {},
     "output_type": "execute_result"
    }
   ],
   "source": [
    "# se calcula el número de sesiones por usuario, dividiendo el número de sesiones entre el número de usuarios\n",
    "# se crea una nueva columna para almacenar el resultado\n",
    "sessions_per_user['sess_per_user'] = sessions_per_user['n_sessions'] / sessions_per_user['n_users']\n",
    "# se muestran 5 filas\n",
    "sessions_per_user.head()"
   ]
  },
  {
   "cell_type": "code",
   "execution_count": 35,
   "metadata": {},
   "outputs": [
    {
     "data": {
      "image/png": "[encoded data removed]",
      "text/plain": [
       "<Figure size 864x576 with 1 Axes>"
      ]
     },
     "metadata": {
      "needs_background": "light"
     },
     "output_type": "display_data"
    }
   ],
   "source": [
    "# se grafica un histograma para observar la distribución del número de sesiones por usuario para cada día\n",
    "\n",
    "sessions_per_user['sess_per_user'].plot(kind= 'hist',\n",
    "                                        bins= 100,\n",
    "                                       title= 'Número de sesiones por usuario',\n",
    "                                       figsize= (12, 8),\n",
    "                                       color= 'darkcyan'\n",
    "                                       )\n",
    "plt.xlabel('Número de Sesiones por Día')\n",
    "plt.ylabel('Frecuencia')\n",
    "plt.show()"
   ]
  },
  {
   "cell_type": "code",
   "execution_count": 36,
   "metadata": {},
   "outputs": [
    {
     "data": {
      "text/plain": [
       "0    1.071429\n",
       "dtype: float64"
      ]
     },
     "execution_count": 36,
     "metadata": {},
     "output_type": "execute_result"
    }
   ],
   "source": [
    "# se calcula la moda para el número de sesiones más frecuente por día\n",
    "sessions_per_user['sess_per_user'].mode()"
   ]
  },
  {
   "cell_type": "code",
   "execution_count": 37,
   "metadata": {
    "scrolled": true
   },
   "outputs": [
    {
     "data": {
      "text/html": [
       "<div>\n",
       "<style scoped>\n",
       "    .dataframe tbody tr th:only-of-type {\n",
       "        vertical-align: middle;\n",
       "    }\n",
       "\n",
       "    .dataframe tbody tr th {\n",
       "        vertical-align: top;\n",
       "    }\n",
       "\n",
       "    .dataframe thead th {\n",
       "        text-align: right;\n",
       "    }\n",
       "</style>\n",
       "<table border=\"1\" class=\"dataframe\">\n",
       "  <thead>\n",
       "    <tr style=\"text-align: right;\">\n",
       "      <th></th>\n",
       "      <th>device</th>\n",
       "      <th>end_ts</th>\n",
       "      <th>source_id</th>\n",
       "      <th>start_ts</th>\n",
       "      <th>uid</th>\n",
       "      <th>session_year</th>\n",
       "      <th>session_month</th>\n",
       "      <th>session_week</th>\n",
       "      <th>session_date</th>\n",
       "      <th>session_duration_min</th>\n",
       "    </tr>\n",
       "  </thead>\n",
       "  <tbody>\n",
       "    <tr>\n",
       "      <th>0</th>\n",
       "      <td>touch</td>\n",
       "      <td>2017-12-20 17:38:00</td>\n",
       "      <td>4</td>\n",
       "      <td>2017-12-20 17:20:00</td>\n",
       "      <td>16879256277535980062</td>\n",
       "      <td>2017</td>\n",
       "      <td>12</td>\n",
       "      <td>51</td>\n",
       "      <td>2017-12-20</td>\n",
       "      <td>18.0</td>\n",
       "    </tr>\n",
       "    <tr>\n",
       "      <th>1</th>\n",
       "      <td>desktop</td>\n",
       "      <td>2018-02-19 17:21:00</td>\n",
       "      <td>2</td>\n",
       "      <td>2018-02-19 16:53:00</td>\n",
       "      <td>104060357244891740</td>\n",
       "      <td>2018</td>\n",
       "      <td>2</td>\n",
       "      <td>8</td>\n",
       "      <td>2018-02-19</td>\n",
       "      <td>28.0</td>\n",
       "    </tr>\n",
       "    <tr>\n",
       "      <th>2</th>\n",
       "      <td>touch</td>\n",
       "      <td>2017-07-01 01:54:00</td>\n",
       "      <td>5</td>\n",
       "      <td>2017-07-01 01:54:00</td>\n",
       "      <td>7459035603376831527</td>\n",
       "      <td>2017</td>\n",
       "      <td>7</td>\n",
       "      <td>26</td>\n",
       "      <td>2017-07-01</td>\n",
       "      <td>0.0</td>\n",
       "    </tr>\n",
       "    <tr>\n",
       "      <th>3</th>\n",
       "      <td>desktop</td>\n",
       "      <td>2018-05-20 11:23:00</td>\n",
       "      <td>9</td>\n",
       "      <td>2018-05-20 10:59:00</td>\n",
       "      <td>16174680259334210214</td>\n",
       "      <td>2018</td>\n",
       "      <td>5</td>\n",
       "      <td>20</td>\n",
       "      <td>2018-05-20</td>\n",
       "      <td>24.0</td>\n",
       "    </tr>\n",
       "    <tr>\n",
       "      <th>4</th>\n",
       "      <td>desktop</td>\n",
       "      <td>2017-12-27 14:06:00</td>\n",
       "      <td>3</td>\n",
       "      <td>2017-12-27 14:06:00</td>\n",
       "      <td>9969694820036681168</td>\n",
       "      <td>2017</td>\n",
       "      <td>12</td>\n",
       "      <td>52</td>\n",
       "      <td>2017-12-27</td>\n",
       "      <td>0.0</td>\n",
       "    </tr>\n",
       "  </tbody>\n",
       "</table>\n",
       "</div>"
      ],
      "text/plain": [
       "    device              end_ts  source_id            start_ts  \\\n",
       "0    touch 2017-12-20 17:38:00          4 2017-12-20 17:20:00   \n",
       "1  desktop 2018-02-19 17:21:00          2 2018-02-19 16:53:00   \n",
       "2    touch 2017-07-01 01:54:00          5 2017-07-01 01:54:00   \n",
       "3  desktop 2018-05-20 11:23:00          9 2018-05-20 10:59:00   \n",
       "4  desktop 2017-12-27 14:06:00          3 2017-12-27 14:06:00   \n",
       "\n",
       "                    uid  session_year  session_month  session_week  \\\n",
       "0  16879256277535980062          2017             12            51   \n",
       "1    104060357244891740          2018              2             8   \n",
       "2   7459035603376831527          2017              7            26   \n",
       "3  16174680259334210214          2018              5            20   \n",
       "4   9969694820036681168          2017             12            52   \n",
       "\n",
       "  session_date  session_duration_min  \n",
       "0   2017-12-20                  18.0  \n",
       "1   2018-02-19                  28.0  \n",
       "2   2017-07-01                   0.0  \n",
       "3   2018-05-20                  24.0  \n",
       "4   2017-12-27                   0.0  "
      ]
     },
     "execution_count": 37,
     "metadata": {},
     "output_type": "execute_result"
    }
   ],
   "source": [
    "# se calculan la duración de las sesiones, se crea una nueva columna en el DataFrame 'visits_log_us'\n",
    "visits_log_us['session_duration_min'] = (visits_log_us['end_ts'] - visits_log_us['start_ts']).dt.seconds\n",
    "# se transforman los segundos a minutos\n",
    "visits_log_us['session_duration_min'] = visits_log_us['session_duration_min'] / 60\n",
    "# se imprimen las primeras 5 filas\n",
    "visits_log_us.head()"
   ]
  },
  {
   "cell_type": "markdown",
   "metadata": {},
   "source": [
    "<div style=\"background-color: lightyellow; padding: 10px;\">\n",
    "\n",
    "<span style=\"color: darkblue;\">  \n",
    "    \n",
    "Se observa que hay sesiones con una larga duración, por tanto, se calcularan sus estadísticos descriptivos con `describe()` para esta columna y se graficará un histograma.\n",
    "    \n",
    "</span>\n",
    "    \n",
    "</div>"
   ]
  },
  {
   "cell_type": "code",
   "execution_count": 38,
   "metadata": {
    "scrolled": true
   },
   "outputs": [
    {
     "data": {
      "text/plain": [
       "count    359400.000000\n",
       "mean         10.725108\n",
       "std          16.938913\n",
       "min           0.000000\n",
       "25%           2.000000\n",
       "50%           5.000000\n",
       "75%          14.000000\n",
       "max        1408.000000\n",
       "Name: session_duration_min, dtype: float64"
      ]
     },
     "execution_count": 38,
     "metadata": {},
     "output_type": "execute_result"
    }
   ],
   "source": [
    "visits_log_us['session_duration_min'].describe()"
   ]
  },
  {
   "cell_type": "code",
   "execution_count": 39,
   "metadata": {
    "scrolled": false
   },
   "outputs": [
    {
     "data": {
      "image/png": "[encoded data removed]",
      "text/plain": [
       "<Figure size 720x432 with 1 Axes>"
      ]
     },
     "metadata": {
      "needs_background": "light"
     },
     "output_type": "display_data"
    }
   ],
   "source": [
    "# ahora se grafica un histograma para observar la distribución de la duración de las sesiones\n",
    "visits_log_us['session_duration_min'].plot(kind= 'hist',\n",
    "                                        bins= 100,\n",
    "                                       title= 'Duración de las Sesiones',\n",
    "                                       figsize= (10, 6),\n",
    "                                       color= 'darkcyan'\n",
    "                                       )\n",
    "plt.xlabel('Duración de las Sesiones en Minutos')\n",
    "plt.ylabel('Frecuencia')\n",
    "plt.show()\n"
   ]
  },
  {
   "cell_type": "markdown",
   "metadata": {},
   "source": [
    "<div style=\"background-color: lightyellow; padding: 10px;\">\n",
    "\n",
    "<span style=\"color: darkblue;\">  \n",
    "    \n",
    "**Observaciones:**  \n",
    "A partir de los estadísticos descritivos se puede observar que probablemente hay valores atípicos, ya que el valor máximo de las duración de una sesión es de 1408 minutos. Lo anterior se confirma con el histograma, ya no tiene una distribución normal, por lo tanto, se busca la moda para saber la duración media de la sesión.\n",
    "    \n",
    "</span>\n",
    "    \n",
    "</div>"
   ]
  },
  {
   "cell_type": "code",
   "execution_count": 40,
   "metadata": {},
   "outputs": [
    {
     "data": {
      "text/plain": [
       "0    1.0\n",
       "dtype: float64"
      ]
     },
     "execution_count": 40,
     "metadata": {},
     "output_type": "execute_result"
    }
   ],
   "source": [
    "# se encuentra la moda con mode() para conocer la duración media de la sesión\n",
    "visits_log_us['session_duration_min'].mode()"
   ]
  },
  {
   "cell_type": "markdown",
   "metadata": {},
   "source": [
    "<div style=\"background-color: lightyellow; padding: 10px;\">\n",
    "\n",
    "<span style=\"color: darkblue;\">  \n",
    "    \n",
    "**Conclusiones:**  \n",
    "La cantidad de usuarios activos diarios son de 908, a la semana 5,825 y al mes son 23,228. El factor de adherencia semanal es de 0.155, lo que nos dice que los usuarios interactuan con el servicio el 15.5 % de los días de las semana.  El factor de adherencia es bajo, por tanto, la frecuencia con la que los usuarios regresan a la semana se pueden mejorar. Por otro lado, el factor de adherencia mensual es es de 3.9 %, el cuál es muy bajo, también hay mucha área de oprtunidad para mejor dicho factor si el departamento de markenting desea aumentar la cantidad de los usuarios que regresan.  \n",
    "El número de sesiones diarias es de 1 aproximadamente, mientras que, la duración media de las sesiones es de 1 minuto. Hay valores para la duración de las sesión de 1408 minutos, aquí es importante revisar si son valores atípicos o sin los usuarios o usuarias dejaron abiertas sus sesiones.\n",
    "\n",
    "    \n",
    "</span>\n",
    "    \n",
    "</div>"
   ]
  },
  {
   "cell_type": "markdown",
   "metadata": {},
   "source": [
    "## Informe de Ventas <a id='informe_ventas'></a>"
   ]
  },
  {
   "cell_type": "markdown",
   "metadata": {},
   "source": [
    "<div style=\"background-color: lightyellow; padding: 10px;\">\n",
    "\n",
    "<span style=\"color: darkblue;\">  \n",
    "    \n",
    "Para saber el tiempo que transcurre entre el registro y la conversión, es decir, cuando el/la usuario/a se convierte en cliente. Entonces se empleara el DataFrame `visits_log_us` para encontrar el primer registro (columna `start_ts`) y el DataFrame `orders_log_us` para encontrar la primera orden (columna `buy_ts`). Después se calcula la diferencia entre ambas fechas \n",
    "\n",
    "\n",
    "    \n",
    "</span>\n",
    "    \n",
    "</div>"
   ]
  },
  {
   "cell_type": "code",
   "execution_count": 41,
   "metadata": {},
   "outputs": [],
   "source": [
    "# agregar columna de mes de inicio de sesión en DataFrame 'visits_log_us'\n",
    "# y en el DataFrame 'orders_log_us' la columna de mes de pedido\n",
    "visits_log_us['session_month'] = visits_log_us['start_ts'].astype('datetime64[M]')\n",
    "orders_log_us['order_month'] = orders_log_us['buy_ts'].astype('datetime64[M]')"
   ]
  },
  {
   "cell_type": "code",
   "execution_count": 42,
   "metadata": {},
   "outputs": [
    {
     "data": {
      "text/html": [
       "<div>\n",
       "<style scoped>\n",
       "    .dataframe tbody tr th:only-of-type {\n",
       "        vertical-align: middle;\n",
       "    }\n",
       "\n",
       "    .dataframe tbody tr th {\n",
       "        vertical-align: top;\n",
       "    }\n",
       "\n",
       "    .dataframe thead th {\n",
       "        text-align: right;\n",
       "    }\n",
       "</style>\n",
       "<table border=\"1\" class=\"dataframe\">\n",
       "  <thead>\n",
       "    <tr style=\"text-align: right;\">\n",
       "      <th></th>\n",
       "      <th>uid</th>\n",
       "      <th>first_session_month</th>\n",
       "    </tr>\n",
       "  </thead>\n",
       "  <tbody>\n",
       "    <tr>\n",
       "      <th>0</th>\n",
       "      <td>11863502262781</td>\n",
       "      <td>2018-03-01</td>\n",
       "    </tr>\n",
       "    <tr>\n",
       "      <th>1</th>\n",
       "      <td>49537067089222</td>\n",
       "      <td>2018-02-01</td>\n",
       "    </tr>\n",
       "    <tr>\n",
       "      <th>2</th>\n",
       "      <td>297729379853735</td>\n",
       "      <td>2017-06-01</td>\n",
       "    </tr>\n",
       "    <tr>\n",
       "      <th>3</th>\n",
       "      <td>313578113262317</td>\n",
       "      <td>2017-09-01</td>\n",
       "    </tr>\n",
       "    <tr>\n",
       "      <th>4</th>\n",
       "      <td>325320750514679</td>\n",
       "      <td>2017-09-01</td>\n",
       "    </tr>\n",
       "  </tbody>\n",
       "</table>\n",
       "</div>"
      ],
      "text/plain": [
       "               uid first_session_month\n",
       "0   11863502262781          2018-03-01\n",
       "1   49537067089222          2018-02-01\n",
       "2  297729379853735          2017-06-01\n",
       "3  313578113262317          2017-09-01\n",
       "4  325320750514679          2017-09-01"
      ]
     },
     "execution_count": 42,
     "metadata": {},
     "output_type": "execute_result"
    }
   ],
   "source": [
    "\n",
    "# se busca la primer sesión para cada usuario\n",
    "first_session_dates = visits_log_us.groupby('uid')['session_month'].min().reset_index()\n",
    "# se cambia el nombre de la columna \n",
    "first_session_dates.columns = ['uid', 'first_session_month']\n",
    "first_session_dates.head()"
   ]
  },
  {
   "cell_type": "code",
   "execution_count": 43,
   "metadata": {},
   "outputs": [
    {
     "data": {
      "text/html": [
       "<div>\n",
       "<style scoped>\n",
       "    .dataframe tbody tr th:only-of-type {\n",
       "        vertical-align: middle;\n",
       "    }\n",
       "\n",
       "    .dataframe tbody tr th {\n",
       "        vertical-align: top;\n",
       "    }\n",
       "\n",
       "    .dataframe thead th {\n",
       "        text-align: right;\n",
       "    }\n",
       "</style>\n",
       "<table border=\"1\" class=\"dataframe\">\n",
       "  <thead>\n",
       "    <tr style=\"text-align: right;\">\n",
       "      <th></th>\n",
       "      <th>device</th>\n",
       "      <th>end_ts</th>\n",
       "      <th>source_id</th>\n",
       "      <th>start_ts</th>\n",
       "      <th>uid</th>\n",
       "      <th>session_year</th>\n",
       "      <th>session_month</th>\n",
       "      <th>session_week</th>\n",
       "      <th>session_date</th>\n",
       "      <th>session_duration_min</th>\n",
       "      <th>first_session_month</th>\n",
       "    </tr>\n",
       "  </thead>\n",
       "  <tbody>\n",
       "    <tr>\n",
       "      <th>0</th>\n",
       "      <td>touch</td>\n",
       "      <td>2017-12-20 17:38:00</td>\n",
       "      <td>4</td>\n",
       "      <td>2017-12-20 17:20:00</td>\n",
       "      <td>16879256277535980062</td>\n",
       "      <td>2017</td>\n",
       "      <td>2017-12-01</td>\n",
       "      <td>51</td>\n",
       "      <td>2017-12-20</td>\n",
       "      <td>18.0</td>\n",
       "      <td>2017-12-01</td>\n",
       "    </tr>\n",
       "    <tr>\n",
       "      <th>1</th>\n",
       "      <td>desktop</td>\n",
       "      <td>2018-02-19 17:21:00</td>\n",
       "      <td>2</td>\n",
       "      <td>2018-02-19 16:53:00</td>\n",
       "      <td>104060357244891740</td>\n",
       "      <td>2018</td>\n",
       "      <td>2018-02-01</td>\n",
       "      <td>8</td>\n",
       "      <td>2018-02-19</td>\n",
       "      <td>28.0</td>\n",
       "      <td>2018-02-01</td>\n",
       "    </tr>\n",
       "    <tr>\n",
       "      <th>2</th>\n",
       "      <td>touch</td>\n",
       "      <td>2017-07-01 01:54:00</td>\n",
       "      <td>5</td>\n",
       "      <td>2017-07-01 01:54:00</td>\n",
       "      <td>7459035603376831527</td>\n",
       "      <td>2017</td>\n",
       "      <td>2017-07-01</td>\n",
       "      <td>26</td>\n",
       "      <td>2017-07-01</td>\n",
       "      <td>0.0</td>\n",
       "      <td>2017-07-01</td>\n",
       "    </tr>\n",
       "  </tbody>\n",
       "</table>\n",
       "</div>"
      ],
      "text/plain": [
       "    device              end_ts  source_id            start_ts  \\\n",
       "0    touch 2017-12-20 17:38:00          4 2017-12-20 17:20:00   \n",
       "1  desktop 2018-02-19 17:21:00          2 2018-02-19 16:53:00   \n",
       "2    touch 2017-07-01 01:54:00          5 2017-07-01 01:54:00   \n",
       "\n",
       "                    uid  session_year session_month  session_week  \\\n",
       "0  16879256277535980062          2017    2017-12-01            51   \n",
       "1    104060357244891740          2018    2018-02-01             8   \n",
       "2   7459035603376831527          2017    2017-07-01            26   \n",
       "\n",
       "  session_date  session_duration_min first_session_month  \n",
       "0   2017-12-20                  18.0          2017-12-01  \n",
       "1   2018-02-19                  28.0          2018-02-01  \n",
       "2   2017-07-01                   0.0          2017-07-01  "
      ]
     },
     "execution_count": 43,
     "metadata": {},
     "output_type": "execute_result"
    }
   ],
   "source": [
    "# se una al DataFrame 'visits_log_us' con merge\n",
    "visits_log_us_ = visits_log_us.merge(first_session_dates, on= 'uid')\n",
    "visits_log_us_.head(3)"
   ]
  },
  {
   "cell_type": "code",
   "execution_count": 44,
   "metadata": {
    "scrolled": true
   },
   "outputs": [
    {
     "data": {
      "text/html": [
       "<div>\n",
       "<style scoped>\n",
       "    .dataframe tbody tr th:only-of-type {\n",
       "        vertical-align: middle;\n",
       "    }\n",
       "\n",
       "    .dataframe tbody tr th {\n",
       "        vertical-align: top;\n",
       "    }\n",
       "\n",
       "    .dataframe thead th {\n",
       "        text-align: right;\n",
       "    }\n",
       "</style>\n",
       "<table border=\"1\" class=\"dataframe\">\n",
       "  <thead>\n",
       "    <tr style=\"text-align: right;\">\n",
       "      <th></th>\n",
       "      <th>uid</th>\n",
       "      <th>first_buy_month</th>\n",
       "    </tr>\n",
       "  </thead>\n",
       "  <tbody>\n",
       "    <tr>\n",
       "      <th>0</th>\n",
       "      <td>313578113262317</td>\n",
       "      <td>2018-01-01</td>\n",
       "    </tr>\n",
       "    <tr>\n",
       "      <th>1</th>\n",
       "      <td>1575281904278712</td>\n",
       "      <td>2017-06-01</td>\n",
       "    </tr>\n",
       "    <tr>\n",
       "      <th>2</th>\n",
       "      <td>2429014661409475</td>\n",
       "      <td>2017-10-01</td>\n",
       "    </tr>\n",
       "    <tr>\n",
       "      <th>3</th>\n",
       "      <td>2464366381792757</td>\n",
       "      <td>2018-01-01</td>\n",
       "    </tr>\n",
       "    <tr>\n",
       "      <th>4</th>\n",
       "      <td>2551852515556206</td>\n",
       "      <td>2017-11-01</td>\n",
       "    </tr>\n",
       "  </tbody>\n",
       "</table>\n",
       "</div>"
      ],
      "text/plain": [
       "                uid first_buy_month\n",
       "0   313578113262317      2018-01-01\n",
       "1  1575281904278712      2017-06-01\n",
       "2  2429014661409475      2017-10-01\n",
       "3  2464366381792757      2018-01-01\n",
       "4  2551852515556206      2017-11-01"
      ]
     },
     "execution_count": 44,
     "metadata": {},
     "output_type": "execute_result"
    }
   ],
   "source": [
    "# se busca la fecha para la primera orden para cada usuario\n",
    "first_buy_dates = orders_log_us.groupby('uid')['order_month'].min().reset_index()\n",
    "# se cambia el nombre de la columna \n",
    "first_buy_dates.columns = ['uid', 'first_buy_month']\n",
    "first_buy_dates.head()"
   ]
  },
  {
   "cell_type": "code",
   "execution_count": 45,
   "metadata": {
    "scrolled": true
   },
   "outputs": [
    {
     "data": {
      "text/html": [
       "<div>\n",
       "<style scoped>\n",
       "    .dataframe tbody tr th:only-of-type {\n",
       "        vertical-align: middle;\n",
       "    }\n",
       "\n",
       "    .dataframe tbody tr th {\n",
       "        vertical-align: top;\n",
       "    }\n",
       "\n",
       "    .dataframe thead th {\n",
       "        text-align: right;\n",
       "    }\n",
       "</style>\n",
       "<table border=\"1\" class=\"dataframe\">\n",
       "  <thead>\n",
       "    <tr style=\"text-align: right;\">\n",
       "      <th></th>\n",
       "      <th>buy_ts</th>\n",
       "      <th>revenue</th>\n",
       "      <th>uid</th>\n",
       "      <th>order_month</th>\n",
       "      <th>first_buy_month</th>\n",
       "    </tr>\n",
       "  </thead>\n",
       "  <tbody>\n",
       "    <tr>\n",
       "      <th>0</th>\n",
       "      <td>2017-06-01 00:10:00</td>\n",
       "      <td>17.00</td>\n",
       "      <td>10329302124590727494</td>\n",
       "      <td>2017-06-01</td>\n",
       "      <td>2017-06-01</td>\n",
       "    </tr>\n",
       "    <tr>\n",
       "      <th>1</th>\n",
       "      <td>2017-06-01 00:25:00</td>\n",
       "      <td>0.55</td>\n",
       "      <td>11627257723692907447</td>\n",
       "      <td>2017-06-01</td>\n",
       "      <td>2017-06-01</td>\n",
       "    </tr>\n",
       "    <tr>\n",
       "      <th>2</th>\n",
       "      <td>2017-06-01 00:27:00</td>\n",
       "      <td>0.37</td>\n",
       "      <td>17903680561304213844</td>\n",
       "      <td>2017-06-01</td>\n",
       "      <td>2017-06-01</td>\n",
       "    </tr>\n",
       "  </tbody>\n",
       "</table>\n",
       "</div>"
      ],
      "text/plain": [
       "               buy_ts  revenue                   uid order_month  \\\n",
       "0 2017-06-01 00:10:00    17.00  10329302124590727494  2017-06-01   \n",
       "1 2017-06-01 00:25:00     0.55  11627257723692907447  2017-06-01   \n",
       "2 2017-06-01 00:27:00     0.37  17903680561304213844  2017-06-01   \n",
       "\n",
       "  first_buy_month  \n",
       "0      2017-06-01  \n",
       "1      2017-06-01  \n",
       "2      2017-06-01  "
      ]
     },
     "execution_count": 45,
     "metadata": {},
     "output_type": "execute_result"
    }
   ],
   "source": [
    "# se una al DataFrame 'orders_log_us' con merge\n",
    "orders_log_us_ = orders_log_us.merge(first_buy_dates, on= 'uid')\n",
    "orders_log_us_.head(3)"
   ]
  },
  {
   "cell_type": "code",
   "execution_count": 46,
   "metadata": {},
   "outputs": [
    {
     "data": {
      "text/html": [
       "<div>\n",
       "<style scoped>\n",
       "    .dataframe tbody tr th:only-of-type {\n",
       "        vertical-align: middle;\n",
       "    }\n",
       "\n",
       "    .dataframe tbody tr th {\n",
       "        vertical-align: top;\n",
       "    }\n",
       "\n",
       "    .dataframe thead th {\n",
       "        text-align: right;\n",
       "    }\n",
       "</style>\n",
       "<table border=\"1\" class=\"dataframe\">\n",
       "  <thead>\n",
       "    <tr style=\"text-align: right;\">\n",
       "      <th></th>\n",
       "      <th>device</th>\n",
       "      <th>end_ts</th>\n",
       "      <th>source_id</th>\n",
       "      <th>start_ts</th>\n",
       "      <th>uid</th>\n",
       "      <th>session_year</th>\n",
       "      <th>session_month</th>\n",
       "      <th>session_week</th>\n",
       "      <th>session_date</th>\n",
       "      <th>session_duration_min</th>\n",
       "      <th>first_session_month</th>\n",
       "      <th>buy_ts</th>\n",
       "      <th>revenue</th>\n",
       "      <th>order_month</th>\n",
       "      <th>first_buy_month</th>\n",
       "    </tr>\n",
       "  </thead>\n",
       "  <tbody>\n",
       "    <tr>\n",
       "      <th>0</th>\n",
       "      <td>desktop</td>\n",
       "      <td>2018-05-20 11:23:00</td>\n",
       "      <td>9</td>\n",
       "      <td>2018-05-20 10:59:00</td>\n",
       "      <td>16174680259334210214</td>\n",
       "      <td>2018</td>\n",
       "      <td>2018-05-01</td>\n",
       "      <td>20</td>\n",
       "      <td>2018-05-20</td>\n",
       "      <td>24.0</td>\n",
       "      <td>2018-03-01</td>\n",
       "      <td>2018-03-09 20:25:00</td>\n",
       "      <td>2.33</td>\n",
       "      <td>2018-03-01</td>\n",
       "      <td>2018-03-01</td>\n",
       "    </tr>\n",
       "    <tr>\n",
       "      <th>1</th>\n",
       "      <td>desktop</td>\n",
       "      <td>2018-03-09 20:33:00</td>\n",
       "      <td>4</td>\n",
       "      <td>2018-03-09 20:05:00</td>\n",
       "      <td>16174680259334210214</td>\n",
       "      <td>2018</td>\n",
       "      <td>2018-03-01</td>\n",
       "      <td>10</td>\n",
       "      <td>2018-03-09</td>\n",
       "      <td>28.0</td>\n",
       "      <td>2018-03-01</td>\n",
       "      <td>2018-03-09 20:25:00</td>\n",
       "      <td>2.33</td>\n",
       "      <td>2018-03-01</td>\n",
       "      <td>2018-03-01</td>\n",
       "    </tr>\n",
       "    <tr>\n",
       "      <th>2</th>\n",
       "      <td>desktop</td>\n",
       "      <td>2017-09-03 21:36:00</td>\n",
       "      <td>5</td>\n",
       "      <td>2017-09-03 21:35:00</td>\n",
       "      <td>16007536194108375387</td>\n",
       "      <td>2017</td>\n",
       "      <td>2017-09-01</td>\n",
       "      <td>35</td>\n",
       "      <td>2017-09-03</td>\n",
       "      <td>1.0</td>\n",
       "      <td>2017-09-01</td>\n",
       "      <td>2017-09-04 12:46:00</td>\n",
       "      <td>2.44</td>\n",
       "      <td>2017-09-01</td>\n",
       "      <td>2017-09-01</td>\n",
       "    </tr>\n",
       "  </tbody>\n",
       "</table>\n",
       "</div>"
      ],
      "text/plain": [
       "    device              end_ts  source_id            start_ts  \\\n",
       "0  desktop 2018-05-20 11:23:00          9 2018-05-20 10:59:00   \n",
       "1  desktop 2018-03-09 20:33:00          4 2018-03-09 20:05:00   \n",
       "2  desktop 2017-09-03 21:36:00          5 2017-09-03 21:35:00   \n",
       "\n",
       "                    uid  session_year session_month  session_week  \\\n",
       "0  16174680259334210214          2018    2018-05-01            20   \n",
       "1  16174680259334210214          2018    2018-03-01            10   \n",
       "2  16007536194108375387          2017    2017-09-01            35   \n",
       "\n",
       "  session_date  session_duration_min first_session_month              buy_ts  \\\n",
       "0   2018-05-20                  24.0          2018-03-01 2018-03-09 20:25:00   \n",
       "1   2018-03-09                  28.0          2018-03-01 2018-03-09 20:25:00   \n",
       "2   2017-09-03                   1.0          2017-09-01 2017-09-04 12:46:00   \n",
       "\n",
       "   revenue order_month first_buy_month  \n",
       "0     2.33  2018-03-01      2018-03-01  \n",
       "1     2.33  2018-03-01      2018-03-01  \n",
       "2     2.44  2017-09-01      2017-09-01  "
      ]
     },
     "execution_count": 46,
     "metadata": {},
     "output_type": "execute_result"
    }
   ],
   "source": [
    "# se unen los DataFrame 'visits_log_us_' con 'orders_log_us_'\n",
    "visits_orders = visits_log_us_.merge(orders_log_us_, on= 'uid')\n",
    "visits_orders.head(3)"
   ]
  },
  {
   "cell_type": "code",
   "execution_count": 47,
   "metadata": {
    "scrolled": true
   },
   "outputs": [
    {
     "data": {
      "text/html": [
       "<div>\n",
       "<style scoped>\n",
       "    .dataframe tbody tr th:only-of-type {\n",
       "        vertical-align: middle;\n",
       "    }\n",
       "\n",
       "    .dataframe tbody tr th {\n",
       "        vertical-align: top;\n",
       "    }\n",
       "\n",
       "    .dataframe thead th {\n",
       "        text-align: right;\n",
       "    }\n",
       "</style>\n",
       "<table border=\"1\" class=\"dataframe\">\n",
       "  <thead>\n",
       "    <tr style=\"text-align: right;\">\n",
       "      <th></th>\n",
       "      <th>device</th>\n",
       "      <th>end_ts</th>\n",
       "      <th>source_id</th>\n",
       "      <th>start_ts</th>\n",
       "      <th>uid</th>\n",
       "      <th>session_year</th>\n",
       "      <th>session_month</th>\n",
       "      <th>session_week</th>\n",
       "      <th>session_date</th>\n",
       "      <th>session_duration_min</th>\n",
       "      <th>first_session_month</th>\n",
       "      <th>buy_ts</th>\n",
       "      <th>revenue</th>\n",
       "      <th>order_month</th>\n",
       "      <th>first_buy_month</th>\n",
       "      <th>convertion_time_days</th>\n",
       "    </tr>\n",
       "  </thead>\n",
       "  <tbody>\n",
       "    <tr>\n",
       "      <th>0</th>\n",
       "      <td>desktop</td>\n",
       "      <td>2018-05-20 11:23:00</td>\n",
       "      <td>9</td>\n",
       "      <td>2018-05-20 10:59:00</td>\n",
       "      <td>16174680259334210214</td>\n",
       "      <td>2018</td>\n",
       "      <td>2018-05-01</td>\n",
       "      <td>20</td>\n",
       "      <td>2018-05-20</td>\n",
       "      <td>24.0</td>\n",
       "      <td>2018-03-01</td>\n",
       "      <td>2018-03-09 20:25:00</td>\n",
       "      <td>2.33</td>\n",
       "      <td>2018-03-01</td>\n",
       "      <td>2018-03-01</td>\n",
       "      <td>0</td>\n",
       "    </tr>\n",
       "    <tr>\n",
       "      <th>1</th>\n",
       "      <td>desktop</td>\n",
       "      <td>2018-03-09 20:33:00</td>\n",
       "      <td>4</td>\n",
       "      <td>2018-03-09 20:05:00</td>\n",
       "      <td>16174680259334210214</td>\n",
       "      <td>2018</td>\n",
       "      <td>2018-03-01</td>\n",
       "      <td>10</td>\n",
       "      <td>2018-03-09</td>\n",
       "      <td>28.0</td>\n",
       "      <td>2018-03-01</td>\n",
       "      <td>2018-03-09 20:25:00</td>\n",
       "      <td>2.33</td>\n",
       "      <td>2018-03-01</td>\n",
       "      <td>2018-03-01</td>\n",
       "      <td>0</td>\n",
       "    </tr>\n",
       "    <tr>\n",
       "      <th>2</th>\n",
       "      <td>desktop</td>\n",
       "      <td>2017-09-03 21:36:00</td>\n",
       "      <td>5</td>\n",
       "      <td>2017-09-03 21:35:00</td>\n",
       "      <td>16007536194108375387</td>\n",
       "      <td>2017</td>\n",
       "      <td>2017-09-01</td>\n",
       "      <td>35</td>\n",
       "      <td>2017-09-03</td>\n",
       "      <td>1.0</td>\n",
       "      <td>2017-09-01</td>\n",
       "      <td>2017-09-04 12:46:00</td>\n",
       "      <td>2.44</td>\n",
       "      <td>2017-09-01</td>\n",
       "      <td>2017-09-01</td>\n",
       "      <td>0</td>\n",
       "    </tr>\n",
       "  </tbody>\n",
       "</table>\n",
       "</div>"
      ],
      "text/plain": [
       "    device              end_ts  source_id            start_ts  \\\n",
       "0  desktop 2018-05-20 11:23:00          9 2018-05-20 10:59:00   \n",
       "1  desktop 2018-03-09 20:33:00          4 2018-03-09 20:05:00   \n",
       "2  desktop 2017-09-03 21:36:00          5 2017-09-03 21:35:00   \n",
       "\n",
       "                    uid  session_year session_month  session_week  \\\n",
       "0  16174680259334210214          2018    2018-05-01            20   \n",
       "1  16174680259334210214          2018    2018-03-01            10   \n",
       "2  16007536194108375387          2017    2017-09-01            35   \n",
       "\n",
       "  session_date  session_duration_min first_session_month              buy_ts  \\\n",
       "0   2018-05-20                  24.0          2018-03-01 2018-03-09 20:25:00   \n",
       "1   2018-03-09                  28.0          2018-03-01 2018-03-09 20:25:00   \n",
       "2   2017-09-03                   1.0          2017-09-01 2017-09-04 12:46:00   \n",
       "\n",
       "   revenue order_month first_buy_month  convertion_time_days  \n",
       "0     2.33  2018-03-01      2018-03-01                     0  \n",
       "1     2.33  2018-03-01      2018-03-01                     0  \n",
       "2     2.44  2017-09-01      2017-09-01                     0  "
      ]
     },
     "execution_count": 47,
     "metadata": {},
     "output_type": "execute_result"
    }
   ],
   "source": [
    "# se calcula los días trancurridos cuando el/la usuario/a se convierte en cliente\n",
    "visits_orders['convertion_time_days'] = (visits_orders['first_buy_month'] - visits_orders['first_session_month']).dt.days\n",
    "visits_orders.head(3)"
   ]
  },
  {
   "cell_type": "markdown",
   "metadata": {},
   "source": [
    "<div style=\"background-color: lightyellow; padding: 10px;\">\n",
    "\n",
    "<span style=\"color: darkblue;\">  \n",
    "    \n",
    "Se categorizan los días, para esto se definen los intervalos  en los cuales categorizarán los valores de tiempo de conversión de la columna `convertion_time_days` y se guardan en `bins`. En la variable `labels` se alamcenan los nombres de las etiquetas para cada uno de los intervalos definidos en `bins`. Después se emplea la función `cut()` para asignar cada valor de `convertion_time_days` al intervalo adecuado según los límites definidos en bins, y luego se le asigna la etiqueta correspondiente de labels. \n",
    "    \n",
    "</span>\n",
    "    \n",
    "</div>"
   ]
  },
  {
   "cell_type": "code",
   "execution_count": 48,
   "metadata": {
    "scrolled": true
   },
   "outputs": [
    {
     "data": {
      "text/html": [
       "<div>\n",
       "<style scoped>\n",
       "    .dataframe tbody tr th:only-of-type {\n",
       "        vertical-align: middle;\n",
       "    }\n",
       "\n",
       "    .dataframe tbody tr th {\n",
       "        vertical-align: top;\n",
       "    }\n",
       "\n",
       "    .dataframe thead th {\n",
       "        text-align: right;\n",
       "    }\n",
       "</style>\n",
       "<table border=\"1\" class=\"dataframe\">\n",
       "  <thead>\n",
       "    <tr style=\"text-align: right;\">\n",
       "      <th></th>\n",
       "      <th>device</th>\n",
       "      <th>end_ts</th>\n",
       "      <th>source_id</th>\n",
       "      <th>start_ts</th>\n",
       "      <th>uid</th>\n",
       "      <th>session_year</th>\n",
       "      <th>session_month</th>\n",
       "      <th>session_week</th>\n",
       "      <th>session_date</th>\n",
       "      <th>session_duration_min</th>\n",
       "      <th>first_session_month</th>\n",
       "      <th>buy_ts</th>\n",
       "      <th>revenue</th>\n",
       "      <th>order_month</th>\n",
       "      <th>first_buy_month</th>\n",
       "      <th>convertion_time_days</th>\n",
       "      <th>conversion_category</th>\n",
       "    </tr>\n",
       "  </thead>\n",
       "  <tbody>\n",
       "    <tr>\n",
       "      <th>212797</th>\n",
       "      <td>desktop</td>\n",
       "      <td>2017-10-29 13:18:00</td>\n",
       "      <td>2</td>\n",
       "      <td>2017-10-29 13:08:00</td>\n",
       "      <td>11920452646463905188</td>\n",
       "      <td>2017</td>\n",
       "      <td>2017-10-01</td>\n",
       "      <td>43</td>\n",
       "      <td>2017-10-29</td>\n",
       "      <td>10.0</td>\n",
       "      <td>2017-06-01</td>\n",
       "      <td>2017-10-12 11:50:00</td>\n",
       "      <td>3.30</td>\n",
       "      <td>2017-10-01</td>\n",
       "      <td>2017-06-01</td>\n",
       "      <td>0</td>\n",
       "      <td>Conversion 0d</td>\n",
       "    </tr>\n",
       "    <tr>\n",
       "      <th>749561</th>\n",
       "      <td>desktop</td>\n",
       "      <td>2017-12-12 11:59:00</td>\n",
       "      <td>1</td>\n",
       "      <td>2017-12-12 11:01:00</td>\n",
       "      <td>1502289719776117431</td>\n",
       "      <td>2017</td>\n",
       "      <td>2017-12-01</td>\n",
       "      <td>50</td>\n",
       "      <td>2017-12-12</td>\n",
       "      <td>58.0</td>\n",
       "      <td>2017-12-01</td>\n",
       "      <td>2017-12-12 09:50:00</td>\n",
       "      <td>6.42</td>\n",
       "      <td>2017-12-01</td>\n",
       "      <td>2017-12-01</td>\n",
       "      <td>0</td>\n",
       "      <td>Conversion 0d</td>\n",
       "    </tr>\n",
       "    <tr>\n",
       "      <th>449843</th>\n",
       "      <td>desktop</td>\n",
       "      <td>2017-12-20 19:56:00</td>\n",
       "      <td>1</td>\n",
       "      <td>2017-12-20 19:52:00</td>\n",
       "      <td>14965030714373758003</td>\n",
       "      <td>2017</td>\n",
       "      <td>2017-12-01</td>\n",
       "      <td>51</td>\n",
       "      <td>2017-12-20</td>\n",
       "      <td>4.0</td>\n",
       "      <td>2017-06-01</td>\n",
       "      <td>2018-03-01 16:46:00</td>\n",
       "      <td>33.00</td>\n",
       "      <td>2018-03-01</td>\n",
       "      <td>2017-11-01</td>\n",
       "      <td>153</td>\n",
       "      <td>Conversion 6m</td>\n",
       "    </tr>\n",
       "    <tr>\n",
       "      <th>255317</th>\n",
       "      <td>desktop</td>\n",
       "      <td>2018-03-20 16:37:00</td>\n",
       "      <td>5</td>\n",
       "      <td>2018-03-20 16:28:00</td>\n",
       "      <td>11920452646463905188</td>\n",
       "      <td>2018</td>\n",
       "      <td>2018-03-01</td>\n",
       "      <td>12</td>\n",
       "      <td>2018-03-20</td>\n",
       "      <td>9.0</td>\n",
       "      <td>2017-06-01</td>\n",
       "      <td>2018-01-10 12:01:00</td>\n",
       "      <td>1.95</td>\n",
       "      <td>2018-01-01</td>\n",
       "      <td>2017-06-01</td>\n",
       "      <td>0</td>\n",
       "      <td>Conversion 0d</td>\n",
       "    </tr>\n",
       "    <tr>\n",
       "      <th>89985</th>\n",
       "      <td>desktop</td>\n",
       "      <td>2018-04-18 16:54:00</td>\n",
       "      <td>2</td>\n",
       "      <td>2018-04-18 16:40:00</td>\n",
       "      <td>3263486045884611639</td>\n",
       "      <td>2018</td>\n",
       "      <td>2018-04-01</td>\n",
       "      <td>16</td>\n",
       "      <td>2018-04-18</td>\n",
       "      <td>14.0</td>\n",
       "      <td>2017-06-01</td>\n",
       "      <td>2017-07-04 17:20:00</td>\n",
       "      <td>36.67</td>\n",
       "      <td>2017-07-01</td>\n",
       "      <td>2017-06-01</td>\n",
       "      <td>0</td>\n",
       "      <td>Conversion 0d</td>\n",
       "    </tr>\n",
       "  </tbody>\n",
       "</table>\n",
       "</div>"
      ],
      "text/plain": [
       "         device              end_ts  source_id            start_ts  \\\n",
       "212797  desktop 2017-10-29 13:18:00          2 2017-10-29 13:08:00   \n",
       "749561  desktop 2017-12-12 11:59:00          1 2017-12-12 11:01:00   \n",
       "449843  desktop 2017-12-20 19:56:00          1 2017-12-20 19:52:00   \n",
       "255317  desktop 2018-03-20 16:37:00          5 2018-03-20 16:28:00   \n",
       "89985   desktop 2018-04-18 16:54:00          2 2018-04-18 16:40:00   \n",
       "\n",
       "                         uid  session_year session_month  session_week  \\\n",
       "212797  11920452646463905188          2017    2017-10-01            43   \n",
       "749561   1502289719776117431          2017    2017-12-01            50   \n",
       "449843  14965030714373758003          2017    2017-12-01            51   \n",
       "255317  11920452646463905188          2018    2018-03-01            12   \n",
       "89985    3263486045884611639          2018    2018-04-01            16   \n",
       "\n",
       "       session_date  session_duration_min first_session_month  \\\n",
       "212797   2017-10-29                  10.0          2017-06-01   \n",
       "749561   2017-12-12                  58.0          2017-12-01   \n",
       "449843   2017-12-20                   4.0          2017-06-01   \n",
       "255317   2018-03-20                   9.0          2017-06-01   \n",
       "89985    2018-04-18                  14.0          2017-06-01   \n",
       "\n",
       "                    buy_ts  revenue order_month first_buy_month  \\\n",
       "212797 2017-10-12 11:50:00     3.30  2017-10-01      2017-06-01   \n",
       "749561 2017-12-12 09:50:00     6.42  2017-12-01      2017-12-01   \n",
       "449843 2018-03-01 16:46:00    33.00  2018-03-01      2017-11-01   \n",
       "255317 2018-01-10 12:01:00     1.95  2018-01-01      2017-06-01   \n",
       "89985  2017-07-04 17:20:00    36.67  2017-07-01      2017-06-01   \n",
       "\n",
       "        convertion_time_days conversion_category  \n",
       "212797                     0       Conversion 0d  \n",
       "749561                     0       Conversion 0d  \n",
       "449843                   153       Conversion 6m  \n",
       "255317                     0       Conversion 0d  \n",
       "89985                      0       Conversion 0d  "
      ]
     },
     "execution_count": 48,
     "metadata": {},
     "output_type": "execute_result"
    }
   ],
   "source": [
    "# se categoriza el tiempo de conversión\n",
    "bins = [-1, 0, 1, 7, 30, 60, 90, 120, 150, 180, 210, 240, 270, 300, 330, 360]  # Definir los intervalos \n",
    "labels = ['Conversion 0d', 'Conversion 1d', 'Conversion 1w', 'Conversion 1m', 'Conversion 2m', 'Conversion 3m', 'Conversion 4m', 'Conversion 5m', 'Conversion 6m', 'Conversion 7m', 'Conversion 8m', 'Conversion 9m', 'Conversion 10m', 'Conversion 11m', 'Conversion 12m']\n",
    "visits_orders['conversion_category'] = pd.cut(visits_orders['convertion_time_days'], bins=bins, labels=labels)\n",
    "# se imprime una muestra de filas\n",
    "visits_orders.sample(5)"
   ]
  },
  {
   "cell_type": "code",
   "execution_count": 49,
   "metadata": {
    "scrolled": false
   },
   "outputs": [],
   "source": [
    "# ahora se crea una tabla dinámica para saber la cantidad de pedidos que hicieron los usuarios por cohorte (que son los que \n",
    "# se registracion por primera vez) y el tiempo que tardaron en hacer su primer pedido 'conversion_category'\n",
    "first_session_cohort = visits_orders.pivot_table(index= 'first_session_month',\n",
    "                                       columns= 'conversion_category',\n",
    "                                       values= 'uid',\n",
    "                                       aggfunc= 'nunique')"
   ]
  },
  {
   "cell_type": "code",
   "execution_count": 50,
   "metadata": {},
   "outputs": [
    {
     "data": {
      "image/png": "[encoded data removed]",
      "text/plain": [
       "<Figure size 1296x648 with 2 Axes>"
      ]
     },
     "metadata": {
      "needs_background": "light"
     },
     "output_type": "display_data"
    }
   ],
   "source": [
    "# se grafica un mapa de calor a partir de orders_pivot\n",
    "plt.figure(figsize=(18, 9))\n",
    "\n",
    "sns.heatmap(first_session_cohort, annot=True, fmt='g', cmap=\"crest\", linewidth=.01)\n",
    "\n",
    "plt.title('Cantidad de Usuarios por Primer Pedido', fontsize= 16)\n",
    "plt.xlabel('Categoría de conversión', fontsize= 14)\n",
    "\n",
    "\n",
    "plt.show()"
   ]
  },
  {
   "cell_type": "markdown",
   "metadata": {},
   "source": [
    "<div style=\"background-color: lightyellow; padding: 10px;\">\n",
    "\n",
    "<span style=\"color: darkblue;\">  \n",
    "    \n",
    "**Conclusiones:**  \n",
    "En en mapa de calor anterior muestra que los cohortes por primer inicio de sesión y la cantidad de usuarios que se hicieron su primer pedido por categoría de conversión, desde 0 días hasta 12 meses.  \n",
    "Se observa que para todas las cohortes los usuarios y usuarias hicieron su primer pedido el mismo día, (Conversion d). Las cohortes de octubre, noviembre y diciembre del 2017 tienen la mayoría de usuarios y usuarias que hicieron su primer pedido el mismo día, 3761, 3357 y 3491, respectivamente; probablemente es debido a la temporada, ya que se celebran diferentes festividades, por lo que los/las clientes pueden necesitar lo más pronto el producto.  \n",
    "También se observa que en algunas cohortes los y las clientes tardaron un mes en realizar su primer pedido y en otros hasta 4 meses; la cohorte de junio de 2017 es la única que tiene 54 usuarios que hicieron su primer pedido despues de 12 meses. Las usuarias y usurios del cohorte de mayo del 2018 la mayoría hizo su primer pedido el mismo día.   \n",
    "\n",
    "    \n",
    "</span>\n",
    "    \n",
    "</div>"
   ]
  },
  {
   "cell_type": "code",
   "execution_count": 51,
   "metadata": {},
   "outputs": [],
   "source": [
    "# Ahora las cohortes se definen por el periodo de tiempo de conversión\n",
    "# se emplea una tabla dinámica para saber la cantidad de pedidos que hicieron de acuerdo a la fuente del anuncio\n",
    "convertion_time_cohort = visits_orders.pivot_table(index= 'conversion_category',\n",
    "                             columns= 'source_id',\n",
    "                             values= 'uid',\n",
    "                             aggfunc= 'nunique')"
   ]
  },
  {
   "cell_type": "code",
   "execution_count": 52,
   "metadata": {},
   "outputs": [
    {
     "data": {
      "image/png": "[encoded data removed]",
      "text/plain": [
       "<Figure size 1296x648 with 2 Axes>"
      ]
     },
     "metadata": {
      "needs_background": "light"
     },
     "output_type": "display_data"
    }
   ],
   "source": [
    "# se grafica un mapa de calor a partir de convertion_time_cohort\n",
    "plt.figure(figsize=(18, 9))\n",
    "\n",
    "sns.heatmap(convertion_time_cohort, annot=True, fmt='g', cmap=\"crest\", linewidth=.01)\n",
    "\n",
    "plt.title('', fontsize= 16)\n",
    "plt.xlabel('Fuente de anuncios de la que proviene el usuario', fontsize= 14)\n",
    "\n",
    "\n",
    "plt.show()"
   ]
  },
  {
   "cell_type": "markdown",
   "metadata": {},
   "source": [
    "<div style=\"background-color: lightyellow; padding: 10px;\">\n",
    "\n",
    "<span style=\"color: darkblue;\">  \n",
    "    \n",
    "**Conclusiones:**  \n",
    "En el mapa de calor anterior los usuarios se organizaron en cohortes de acuerdo a su periodo/tiempo de conversión, en el cohorte de 0 días la mayor cantidad de primeros pedidos fueron principalmente de tres fuentes: de la 4, 3 y 5.  \n",
    "Para las cohortes de 1 mes, 2, 3 y 4 meses, son las misma fuentes de anuncios las que tienen la mayoría de usuarios. La fuente 7 practicamente no genera primeras compras, sólo 1, por tanto no sería mala idea no usar más esa fuente de anuncios; por tanto, valdría más la pena centrar más esfuerzos en las fuentes 3, 4 y 5. También las fuentes de anuncios 1 y 2 genera una importante cantidad de primeras compras.  \n",
    "\n",
    "    \n",
    "</span>\n",
    "    \n",
    "</div>"
   ]
  },
  {
   "cell_type": "markdown",
   "metadata": {},
   "source": [
    "<div style=\"background-color: lightyellow; padding: 10px;\">\n",
    "\n",
    "<span style=\"color: darkblue;\">  \n",
    "    \n",
    "****  \n",
    "Ahora se calcula el total de pedidos para cada mes que se realizó la compra/pedido, también se calcula el promedio de pedidos que hizo cada usuario por mes. Se emplea el DataFrame `orders_log_us`.\n",
    "\n",
    "    \n",
    "</span>\n",
    "    \n",
    "</div>"
   ]
  },
  {
   "cell_type": "code",
   "execution_count": 53,
   "metadata": {},
   "outputs": [
    {
     "data": {
      "text/html": [
       "<div>\n",
       "<style scoped>\n",
       "    .dataframe tbody tr th:only-of-type {\n",
       "        vertical-align: middle;\n",
       "    }\n",
       "\n",
       "    .dataframe tbody tr th {\n",
       "        vertical-align: top;\n",
       "    }\n",
       "\n",
       "    .dataframe thead th {\n",
       "        text-align: right;\n",
       "    }\n",
       "</style>\n",
       "<table border=\"1\" class=\"dataframe\">\n",
       "  <thead>\n",
       "    <tr style=\"text-align: right;\">\n",
       "      <th></th>\n",
       "      <th>order_month</th>\n",
       "      <th>n_orders</th>\n",
       "      <th>n_users</th>\n",
       "      <th>orders_per_user</th>\n",
       "    </tr>\n",
       "  </thead>\n",
       "  <tbody>\n",
       "    <tr>\n",
       "      <th>0</th>\n",
       "      <td>2017-06-01</td>\n",
       "      <td>2354</td>\n",
       "      <td>2023</td>\n",
       "      <td>1.163618</td>\n",
       "    </tr>\n",
       "    <tr>\n",
       "      <th>1</th>\n",
       "      <td>2017-07-01</td>\n",
       "      <td>2363</td>\n",
       "      <td>1984</td>\n",
       "      <td>1.191028</td>\n",
       "    </tr>\n",
       "    <tr>\n",
       "      <th>2</th>\n",
       "      <td>2017-08-01</td>\n",
       "      <td>1807</td>\n",
       "      <td>1472</td>\n",
       "      <td>1.227582</td>\n",
       "    </tr>\n",
       "    <tr>\n",
       "      <th>3</th>\n",
       "      <td>2017-09-01</td>\n",
       "      <td>3387</td>\n",
       "      <td>2750</td>\n",
       "      <td>1.231636</td>\n",
       "    </tr>\n",
       "    <tr>\n",
       "      <th>4</th>\n",
       "      <td>2017-10-01</td>\n",
       "      <td>5679</td>\n",
       "      <td>4675</td>\n",
       "      <td>1.214759</td>\n",
       "    </tr>\n",
       "  </tbody>\n",
       "</table>\n",
       "</div>"
      ],
      "text/plain": [
       "  order_month  n_orders  n_users  orders_per_user\n",
       "0  2017-06-01      2354     2023         1.163618\n",
       "1  2017-07-01      2363     1984         1.191028\n",
       "2  2017-08-01      1807     1472         1.227582\n",
       "3  2017-09-01      3387     2750         1.231636\n",
       "4  2017-10-01      5679     4675         1.214759"
      ]
     },
     "execution_count": 53,
     "metadata": {},
     "output_type": "execute_result"
    }
   ],
   "source": [
    "# se agrupan los datos por mes de compra\n",
    "order_period = orders_log_us.groupby(['order_month'])['uid'].agg(['count', 'nunique']).reset_index()\n",
    "# se cambia el nombre de las columnas\n",
    "order_period.columns = ['order_month', 'n_orders', 'n_users']\n",
    "# se crea una columna para las ordenes por usuario\n",
    "order_period['orders_per_user'] = order_period['n_orders'] / order_period['n_users']\n",
    "order_period.head()"
   ]
  },
  {
   "cell_type": "code",
   "execution_count": 54,
   "metadata": {},
   "outputs": [
    {
     "data": {
      "image/png": "[encoded data removed]",
      "text/plain": [
       "<Figure size 864x576 with 1 Axes>"
      ]
     },
     "metadata": {
      "needs_background": "light"
     },
     "output_type": "display_data"
    }
   ],
   "source": [
    "# Se grafica los pedidos totales para cada mes donde se efectuo la compra\n",
    "order_period.plot(x = 'order_month',\n",
    "                  y= 'n_orders',\n",
    "                  kind= 'line',\n",
    "                  figsize= [12,8],\n",
    "                  fontsize= 12,\n",
    "                  rot= 90,\n",
    "                  color= 'darkcyan'\n",
    "                       )\n",
    "plt.title('Pedidos de los Usuarios por Mes', fontsize=15)\n",
    "plt.xlabel('Mes del Pedido', fontsize=15)\n",
    "plt.ylabel('Cantidad Total de Pedidos', fontsize=15)\n",
    "\n",
    "\n",
    "plt.show()"
   ]
  },
  {
   "cell_type": "code",
   "execution_count": 55,
   "metadata": {
    "scrolled": false
   },
   "outputs": [
    {
     "name": "stdout",
     "output_type": "stream",
     "text": [
      "El promedio de pedidos que se hacen de 3878.0\n",
      "Los pedidos en promedio que se hacen por usuario/a son de 1.0\n"
     ]
    }
   ],
   "source": [
    "# Se calcula el promedio de los pedidos y el promedio de pedidos por usuario/a \n",
    "total_orders_mean = order_period['n_orders'].mean().round()\n",
    "orders_per_user_mean = order_period['orders_per_user'].mean().round()\n",
    "print(f'El promedio de pedidos que se hacen de {total_orders_mean}')\n",
    "print(f'Los pedidos en promedio que se hacen por usuario/a son de {orders_per_user_mean}')"
   ]
  },
  {
   "cell_type": "markdown",
   "metadata": {},
   "source": [
    "<div style=\"background-color: lightyellow; padding: 10px;\">\n",
    "\n",
    "<span style=\"color: darkblue;\">  \n",
    "    \n",
    "**Conclusiones:**  \n",
    "La cantidad de pedidos que hicieron los usuarios es mayor en los meses de octubre, noviembre y diciembre de 2017, siendo diciembre el mes con más pedidos con 6,000 pedidos aproximadamente; se puede deber a que son meses en los cuales se celebran varias festiviadades en la cuales las personas dan regalos. Después la cantidad de pedidos disminuye hay un ligero repunte en febrero y marzo del 2018, pero después vuelven a disminuir. En promedio cada usuario y usuaria hacen 1 pedido.\n",
    "    \n",
    "</span>\n",
    "    \n",
    "</div>"
   ]
  },
  {
   "cell_type": "markdown",
   "metadata": {},
   "source": [
    "<div style=\"background-color: lightyellow; padding: 10px;\">\n",
    "\n",
    "<span style=\"color: darkblue;\">  \n",
    "    \n",
    "****  \n",
    "Para calcular el LTV (la cantidad total de dinero que un cliente aporta a la empresa en promedio al realizar compras), se agrupan los datos por clientes con la fecha de su primera compra a partir del DataFrame `orders_log_us`, por tanto los/las clientes se organizan por cohorte por fecha de primer pedido. Después se agrupan por fecha de la cohorte y se calcula la cantidad de usuarios y usuarias únicos/as. Luego el DataFrame que tiene las fechas de las cohortes se agregan al DataFrame `orders_log_us` con `merge`, enseguida se agrupan los datos por cohorte y por la fecha de compra (mes de compra) y se calcula el total de ganancias (revenue) para cada grupo. \n",
    "    \n",
    "</span>\n",
    "    \n",
    "</div>"
   ]
  },
  {
   "cell_type": "code",
   "execution_count": 56,
   "metadata": {
    "scrolled": false
   },
   "outputs": [
    {
     "data": {
      "text/html": [
       "<div>\n",
       "<style scoped>\n",
       "    .dataframe tbody tr th:only-of-type {\n",
       "        vertical-align: middle;\n",
       "    }\n",
       "\n",
       "    .dataframe tbody tr th {\n",
       "        vertical-align: top;\n",
       "    }\n",
       "\n",
       "    .dataframe thead th {\n",
       "        text-align: right;\n",
       "    }\n",
       "</style>\n",
       "<table border=\"1\" class=\"dataframe\">\n",
       "  <thead>\n",
       "    <tr style=\"text-align: right;\">\n",
       "      <th></th>\n",
       "      <th>uid</th>\n",
       "      <th>first_order_month</th>\n",
       "    </tr>\n",
       "  </thead>\n",
       "  <tbody>\n",
       "    <tr>\n",
       "      <th>0</th>\n",
       "      <td>313578113262317</td>\n",
       "      <td>2018-01-01</td>\n",
       "    </tr>\n",
       "    <tr>\n",
       "      <th>1</th>\n",
       "      <td>1575281904278712</td>\n",
       "      <td>2017-06-01</td>\n",
       "    </tr>\n",
       "    <tr>\n",
       "      <th>2</th>\n",
       "      <td>2429014661409475</td>\n",
       "      <td>2017-10-01</td>\n",
       "    </tr>\n",
       "    <tr>\n",
       "      <th>3</th>\n",
       "      <td>2464366381792757</td>\n",
       "      <td>2018-01-01</td>\n",
       "    </tr>\n",
       "    <tr>\n",
       "      <th>4</th>\n",
       "      <td>2551852515556206</td>\n",
       "      <td>2017-11-01</td>\n",
       "    </tr>\n",
       "  </tbody>\n",
       "</table>\n",
       "</div>"
      ],
      "text/plain": [
       "                uid first_order_month\n",
       "0   313578113262317        2018-01-01\n",
       "1  1575281904278712        2017-06-01\n",
       "2  2429014661409475        2017-10-01\n",
       "3  2464366381792757        2018-01-01\n",
       "4  2551852515556206        2017-11-01"
      ]
     },
     "execution_count": 56,
     "metadata": {},
     "output_type": "execute_result"
    }
   ],
   "source": [
    "# se grupan los datos por id de usuario y se busca la fecha de su primer pedido con min()\n",
    "first_orders = orders_log_us.groupby('uid').agg({'order_month': 'min'}).reset_index()\n",
    "first_orders.columns = ['uid', 'first_order_month']\n",
    "first_orders.head()"
   ]
  },
  {
   "cell_type": "code",
   "execution_count": 57,
   "metadata": {},
   "outputs": [
    {
     "data": {
      "text/html": [
       "<div>\n",
       "<style scoped>\n",
       "    .dataframe tbody tr th:only-of-type {\n",
       "        vertical-align: middle;\n",
       "    }\n",
       "\n",
       "    .dataframe tbody tr th {\n",
       "        vertical-align: top;\n",
       "    }\n",
       "\n",
       "    .dataframe thead th {\n",
       "        text-align: right;\n",
       "    }\n",
       "</style>\n",
       "<table border=\"1\" class=\"dataframe\">\n",
       "  <thead>\n",
       "    <tr style=\"text-align: right;\">\n",
       "      <th></th>\n",
       "      <th>first_order_month</th>\n",
       "      <th>n_buyers</th>\n",
       "    </tr>\n",
       "  </thead>\n",
       "  <tbody>\n",
       "    <tr>\n",
       "      <th>0</th>\n",
       "      <td>2017-06-01</td>\n",
       "      <td>2023</td>\n",
       "    </tr>\n",
       "    <tr>\n",
       "      <th>1</th>\n",
       "      <td>2017-07-01</td>\n",
       "      <td>1923</td>\n",
       "    </tr>\n",
       "    <tr>\n",
       "      <th>2</th>\n",
       "      <td>2017-08-01</td>\n",
       "      <td>1370</td>\n",
       "    </tr>\n",
       "    <tr>\n",
       "      <th>3</th>\n",
       "      <td>2017-09-01</td>\n",
       "      <td>2581</td>\n",
       "    </tr>\n",
       "    <tr>\n",
       "      <th>4</th>\n",
       "      <td>2017-10-01</td>\n",
       "      <td>4340</td>\n",
       "    </tr>\n",
       "  </tbody>\n",
       "</table>\n",
       "</div>"
      ],
      "text/plain": [
       "  first_order_month  n_buyers\n",
       "0        2017-06-01      2023\n",
       "1        2017-07-01      1923\n",
       "2        2017-08-01      1370\n",
       "3        2017-09-01      2581\n",
       "4        2017-10-01      4340"
      ]
     },
     "execution_count": 57,
     "metadata": {},
     "output_type": "execute_result"
    }
   ],
   "source": [
    "# se calcula el tamaño de la cohorte contando los usuarios y usuarias únicos/as para cada cohorte\n",
    "cohort_sizes = first_orders.groupby('first_order_month').agg({'uid': 'nunique'}).reset_index()\n",
    "# Cambia el nombre de las columnas\n",
    "cohort_sizes.columns = ['first_order_month', 'n_buyers']\n",
    "cohort_sizes.head()"
   ]
  },
  {
   "cell_type": "code",
   "execution_count": 58,
   "metadata": {
    "scrolled": true
   },
   "outputs": [
    {
     "data": {
      "text/html": [
       "<div>\n",
       "<style scoped>\n",
       "    .dataframe tbody tr th:only-of-type {\n",
       "        vertical-align: middle;\n",
       "    }\n",
       "\n",
       "    .dataframe tbody tr th {\n",
       "        vertical-align: top;\n",
       "    }\n",
       "\n",
       "    .dataframe thead th {\n",
       "        text-align: right;\n",
       "    }\n",
       "</style>\n",
       "<table border=\"1\" class=\"dataframe\">\n",
       "  <thead>\n",
       "    <tr style=\"text-align: right;\">\n",
       "      <th></th>\n",
       "      <th>buy_ts</th>\n",
       "      <th>revenue</th>\n",
       "      <th>uid</th>\n",
       "      <th>order_month</th>\n",
       "      <th>first_order_month</th>\n",
       "    </tr>\n",
       "  </thead>\n",
       "  <tbody>\n",
       "    <tr>\n",
       "      <th>0</th>\n",
       "      <td>2017-06-01 00:10:00</td>\n",
       "      <td>17.00</td>\n",
       "      <td>10329302124590727494</td>\n",
       "      <td>2017-06-01</td>\n",
       "      <td>2017-06-01</td>\n",
       "    </tr>\n",
       "    <tr>\n",
       "      <th>1</th>\n",
       "      <td>2017-06-01 00:25:00</td>\n",
       "      <td>0.55</td>\n",
       "      <td>11627257723692907447</td>\n",
       "      <td>2017-06-01</td>\n",
       "      <td>2017-06-01</td>\n",
       "    </tr>\n",
       "    <tr>\n",
       "      <th>2</th>\n",
       "      <td>2017-06-01 00:27:00</td>\n",
       "      <td>0.37</td>\n",
       "      <td>17903680561304213844</td>\n",
       "      <td>2017-06-01</td>\n",
       "      <td>2017-06-01</td>\n",
       "    </tr>\n",
       "    <tr>\n",
       "      <th>3</th>\n",
       "      <td>2017-06-01 00:29:00</td>\n",
       "      <td>0.55</td>\n",
       "      <td>16109239769442553005</td>\n",
       "      <td>2017-06-01</td>\n",
       "      <td>2017-06-01</td>\n",
       "    </tr>\n",
       "    <tr>\n",
       "      <th>4</th>\n",
       "      <td>2017-06-01 07:58:00</td>\n",
       "      <td>0.37</td>\n",
       "      <td>14200605875248379450</td>\n",
       "      <td>2017-06-01</td>\n",
       "      <td>2017-06-01</td>\n",
       "    </tr>\n",
       "  </tbody>\n",
       "</table>\n",
       "</div>"
      ],
      "text/plain": [
       "               buy_ts  revenue                   uid order_month  \\\n",
       "0 2017-06-01 00:10:00    17.00  10329302124590727494  2017-06-01   \n",
       "1 2017-06-01 00:25:00     0.55  11627257723692907447  2017-06-01   \n",
       "2 2017-06-01 00:27:00     0.37  17903680561304213844  2017-06-01   \n",
       "3 2017-06-01 00:29:00     0.55  16109239769442553005  2017-06-01   \n",
       "4 2017-06-01 07:58:00     0.37  14200605875248379450  2017-06-01   \n",
       "\n",
       "  first_order_month  \n",
       "0        2017-06-01  \n",
       "1        2017-06-01  \n",
       "2        2017-06-01  \n",
       "3        2017-06-01  \n",
       "4        2017-06-01  "
      ]
     },
     "execution_count": 58,
     "metadata": {},
     "output_type": "execute_result"
    }
   ],
   "source": [
    "# se agregan los meses de la primera compra de los clientes y clientas al DataFrame orders_log_us\n",
    "orders_with_first_order = orders_log_us.merge( first_orders, on= 'uid')\n",
    "orders_with_first_order.head()"
   ]
  },
  {
   "cell_type": "code",
   "execution_count": 59,
   "metadata": {},
   "outputs": [
    {
     "data": {
      "text/html": [
       "<div>\n",
       "<style scoped>\n",
       "    .dataframe tbody tr th:only-of-type {\n",
       "        vertical-align: middle;\n",
       "    }\n",
       "\n",
       "    .dataframe tbody tr th {\n",
       "        vertical-align: top;\n",
       "    }\n",
       "\n",
       "    .dataframe thead th {\n",
       "        text-align: right;\n",
       "    }\n",
       "</style>\n",
       "<table border=\"1\" class=\"dataframe\">\n",
       "  <thead>\n",
       "    <tr style=\"text-align: right;\">\n",
       "      <th></th>\n",
       "      <th>first_order_month</th>\n",
       "      <th>order_month</th>\n",
       "      <th>revenue</th>\n",
       "    </tr>\n",
       "  </thead>\n",
       "  <tbody>\n",
       "    <tr>\n",
       "      <th>0</th>\n",
       "      <td>2017-06-01</td>\n",
       "      <td>2017-06-01</td>\n",
       "      <td>9557.49</td>\n",
       "    </tr>\n",
       "    <tr>\n",
       "      <th>1</th>\n",
       "      <td>2017-06-01</td>\n",
       "      <td>2017-07-01</td>\n",
       "      <td>981.82</td>\n",
       "    </tr>\n",
       "    <tr>\n",
       "      <th>2</th>\n",
       "      <td>2017-06-01</td>\n",
       "      <td>2017-08-01</td>\n",
       "      <td>885.34</td>\n",
       "    </tr>\n",
       "    <tr>\n",
       "      <th>3</th>\n",
       "      <td>2017-06-01</td>\n",
       "      <td>2017-09-01</td>\n",
       "      <td>1931.30</td>\n",
       "    </tr>\n",
       "    <tr>\n",
       "      <th>4</th>\n",
       "      <td>2017-06-01</td>\n",
       "      <td>2017-10-01</td>\n",
       "      <td>2068.58</td>\n",
       "    </tr>\n",
       "  </tbody>\n",
       "</table>\n",
       "</div>"
      ],
      "text/plain": [
       "  first_order_month order_month  revenue\n",
       "0        2017-06-01  2017-06-01  9557.49\n",
       "1        2017-06-01  2017-07-01   981.82\n",
       "2        2017-06-01  2017-08-01   885.34\n",
       "3        2017-06-01  2017-09-01  1931.30\n",
       "4        2017-06-01  2017-10-01  2068.58"
      ]
     },
     "execution_count": 59,
     "metadata": {},
     "output_type": "execute_result"
    }
   ],
   "source": [
    "# se agrupan los datos por fecha de la cohorte y el mes de la compra y se calculan las ganancias totles con sum()\n",
    "cohorts = orders_with_first_order.groupby(['first_order_month', 'order_month']).agg({'revenue': 'sum'}).reset_index()\n",
    "cohorts.head()"
   ]
  },
  {
   "cell_type": "code",
   "execution_count": 60,
   "metadata": {},
   "outputs": [
    {
     "data": {
      "text/html": [
       "<div>\n",
       "<style scoped>\n",
       "    .dataframe tbody tr th:only-of-type {\n",
       "        vertical-align: middle;\n",
       "    }\n",
       "\n",
       "    .dataframe tbody tr th {\n",
       "        vertical-align: top;\n",
       "    }\n",
       "\n",
       "    .dataframe thead th {\n",
       "        text-align: right;\n",
       "    }\n",
       "</style>\n",
       "<table border=\"1\" class=\"dataframe\">\n",
       "  <thead>\n",
       "    <tr style=\"text-align: right;\">\n",
       "      <th></th>\n",
       "      <th>first_order_month</th>\n",
       "      <th>n_buyers</th>\n",
       "      <th>order_month</th>\n",
       "      <th>revenue</th>\n",
       "    </tr>\n",
       "  </thead>\n",
       "  <tbody>\n",
       "    <tr>\n",
       "      <th>0</th>\n",
       "      <td>2017-06-01</td>\n",
       "      <td>2023</td>\n",
       "      <td>2017-06-01</td>\n",
       "      <td>9557.49</td>\n",
       "    </tr>\n",
       "    <tr>\n",
       "      <th>1</th>\n",
       "      <td>2017-06-01</td>\n",
       "      <td>2023</td>\n",
       "      <td>2017-07-01</td>\n",
       "      <td>981.82</td>\n",
       "    </tr>\n",
       "    <tr>\n",
       "      <th>2</th>\n",
       "      <td>2017-06-01</td>\n",
       "      <td>2023</td>\n",
       "      <td>2017-08-01</td>\n",
       "      <td>885.34</td>\n",
       "    </tr>\n",
       "    <tr>\n",
       "      <th>3</th>\n",
       "      <td>2017-06-01</td>\n",
       "      <td>2023</td>\n",
       "      <td>2017-09-01</td>\n",
       "      <td>1931.30</td>\n",
       "    </tr>\n",
       "    <tr>\n",
       "      <th>4</th>\n",
       "      <td>2017-06-01</td>\n",
       "      <td>2023</td>\n",
       "      <td>2017-10-01</td>\n",
       "      <td>2068.58</td>\n",
       "    </tr>\n",
       "  </tbody>\n",
       "</table>\n",
       "</div>"
      ],
      "text/plain": [
       "  first_order_month  n_buyers order_month  revenue\n",
       "0        2017-06-01      2023  2017-06-01  9557.49\n",
       "1        2017-06-01      2023  2017-07-01   981.82\n",
       "2        2017-06-01      2023  2017-08-01   885.34\n",
       "3        2017-06-01      2023  2017-09-01  1931.30\n",
       "4        2017-06-01      2023  2017-10-01  2068.58"
      ]
     },
     "execution_count": 60,
     "metadata": {},
     "output_type": "execute_result"
    }
   ],
   "source": [
    "# se hace un merge de los DataFrame 'cohort_sizes' y 'cohorts'\n",
    "report = pd.merge(cohort_sizes, cohorts, on='first_order_month')\n",
    "report.head()"
   ]
  },
  {
   "cell_type": "code",
   "execution_count": 61,
   "metadata": {},
   "outputs": [
    {
     "data": {
      "text/html": [
       "<div>\n",
       "<style scoped>\n",
       "    .dataframe tbody tr th:only-of-type {\n",
       "        vertical-align: middle;\n",
       "    }\n",
       "\n",
       "    .dataframe tbody tr th {\n",
       "        vertical-align: top;\n",
       "    }\n",
       "\n",
       "    .dataframe thead th {\n",
       "        text-align: right;\n",
       "    }\n",
       "</style>\n",
       "<table border=\"1\" class=\"dataframe\">\n",
       "  <thead>\n",
       "    <tr style=\"text-align: right;\">\n",
       "      <th></th>\n",
       "      <th>first_order_month</th>\n",
       "      <th>n_buyers</th>\n",
       "      <th>order_month</th>\n",
       "      <th>revenue</th>\n",
       "      <th>age</th>\n",
       "    </tr>\n",
       "  </thead>\n",
       "  <tbody>\n",
       "    <tr>\n",
       "      <th>0</th>\n",
       "      <td>2017-06-01</td>\n",
       "      <td>2023</td>\n",
       "      <td>2017-06-01</td>\n",
       "      <td>9557.49</td>\n",
       "      <td>0</td>\n",
       "    </tr>\n",
       "    <tr>\n",
       "      <th>1</th>\n",
       "      <td>2017-06-01</td>\n",
       "      <td>2023</td>\n",
       "      <td>2017-07-01</td>\n",
       "      <td>981.82</td>\n",
       "      <td>1</td>\n",
       "    </tr>\n",
       "    <tr>\n",
       "      <th>2</th>\n",
       "      <td>2017-06-01</td>\n",
       "      <td>2023</td>\n",
       "      <td>2017-08-01</td>\n",
       "      <td>885.34</td>\n",
       "      <td>2</td>\n",
       "    </tr>\n",
       "    <tr>\n",
       "      <th>3</th>\n",
       "      <td>2017-06-01</td>\n",
       "      <td>2023</td>\n",
       "      <td>2017-09-01</td>\n",
       "      <td>1931.30</td>\n",
       "      <td>3</td>\n",
       "    </tr>\n",
       "    <tr>\n",
       "      <th>4</th>\n",
       "      <td>2017-06-01</td>\n",
       "      <td>2023</td>\n",
       "      <td>2017-10-01</td>\n",
       "      <td>2068.58</td>\n",
       "      <td>4</td>\n",
       "    </tr>\n",
       "  </tbody>\n",
       "</table>\n",
       "</div>"
      ],
      "text/plain": [
       "  first_order_month  n_buyers order_month  revenue  age\n",
       "0        2017-06-01      2023  2017-06-01  9557.49    0\n",
       "1        2017-06-01      2023  2017-07-01   981.82    1\n",
       "2        2017-06-01      2023  2017-08-01   885.34    2\n",
       "3        2017-06-01      2023  2017-09-01  1931.30    3\n",
       "4        2017-06-01      2023  2017-10-01  2068.58    4"
      ]
     },
     "execution_count": 61,
     "metadata": {},
     "output_type": "execute_result"
    }
   ],
   "source": [
    "# se crea una columna para calcular la edad de cada cohorte\n",
    "report['age'] = report['order_month'] - report['first_order_month']\n",
    "# se cambia a meses\n",
    "report['age'] = report['age'] / np.timedelta64(1, 'M')\n",
    "# se redondean los meses\n",
    "report['age'] = report['age'].round().astype('int')\n",
    "report.head()"
   ]
  },
  {
   "cell_type": "code",
   "execution_count": 62,
   "metadata": {},
   "outputs": [
    {
     "data": {
      "text/html": [
       "<div>\n",
       "<style scoped>\n",
       "    .dataframe tbody tr th:only-of-type {\n",
       "        vertical-align: middle;\n",
       "    }\n",
       "\n",
       "    .dataframe tbody tr th {\n",
       "        vertical-align: top;\n",
       "    }\n",
       "\n",
       "    .dataframe thead th {\n",
       "        text-align: right;\n",
       "    }\n",
       "</style>\n",
       "<table border=\"1\" class=\"dataframe\">\n",
       "  <thead>\n",
       "    <tr style=\"text-align: right;\">\n",
       "      <th></th>\n",
       "      <th>first_order_month</th>\n",
       "      <th>n_buyers</th>\n",
       "      <th>order_month</th>\n",
       "      <th>revenue</th>\n",
       "      <th>age</th>\n",
       "      <th>ltv</th>\n",
       "    </tr>\n",
       "  </thead>\n",
       "  <tbody>\n",
       "    <tr>\n",
       "      <th>0</th>\n",
       "      <td>2017-06-01</td>\n",
       "      <td>2023</td>\n",
       "      <td>2017-06-01</td>\n",
       "      <td>9557.49</td>\n",
       "      <td>0</td>\n",
       "      <td>4.724414</td>\n",
       "    </tr>\n",
       "    <tr>\n",
       "      <th>1</th>\n",
       "      <td>2017-06-01</td>\n",
       "      <td>2023</td>\n",
       "      <td>2017-07-01</td>\n",
       "      <td>981.82</td>\n",
       "      <td>1</td>\n",
       "      <td>0.485329</td>\n",
       "    </tr>\n",
       "    <tr>\n",
       "      <th>2</th>\n",
       "      <td>2017-06-01</td>\n",
       "      <td>2023</td>\n",
       "      <td>2017-08-01</td>\n",
       "      <td>885.34</td>\n",
       "      <td>2</td>\n",
       "      <td>0.437637</td>\n",
       "    </tr>\n",
       "    <tr>\n",
       "      <th>3</th>\n",
       "      <td>2017-06-01</td>\n",
       "      <td>2023</td>\n",
       "      <td>2017-09-01</td>\n",
       "      <td>1931.30</td>\n",
       "      <td>3</td>\n",
       "      <td>0.954671</td>\n",
       "    </tr>\n",
       "    <tr>\n",
       "      <th>4</th>\n",
       "      <td>2017-06-01</td>\n",
       "      <td>2023</td>\n",
       "      <td>2017-10-01</td>\n",
       "      <td>2068.58</td>\n",
       "      <td>4</td>\n",
       "      <td>1.022531</td>\n",
       "    </tr>\n",
       "  </tbody>\n",
       "</table>\n",
       "</div>"
      ],
      "text/plain": [
       "  first_order_month  n_buyers order_month  revenue  age       ltv\n",
       "0        2017-06-01      2023  2017-06-01  9557.49    0  4.724414\n",
       "1        2017-06-01      2023  2017-07-01   981.82    1  0.485329\n",
       "2        2017-06-01      2023  2017-08-01   885.34    2  0.437637\n",
       "3        2017-06-01      2023  2017-09-01  1931.30    3  0.954671\n",
       "4        2017-06-01      2023  2017-10-01  2068.58    4  1.022531"
      ]
     },
     "execution_count": 62,
     "metadata": {},
     "output_type": "execute_result"
    }
   ],
   "source": [
    "# se calcula el LTV, dividiendo las ganacias ('revenue') entre la cantidad de compradores ('n_buyers')\n",
    "report['ltv'] = report['revenue'] / report['n_buyers']\n",
    "report.head()"
   ]
  },
  {
   "cell_type": "code",
   "execution_count": 63,
   "metadata": {},
   "outputs": [],
   "source": [
    "# Visualizaremos las cohortes como una tabla dinámica para visualizar el\n",
    "# ltv dpromedio por cohorte y por edad de la cohorte\n",
    "result = report.pivot_table(index= 'first_order_month',\n",
    "                            columns= 'age',\n",
    "                            values= 'ltv',\n",
    "                            aggfunc= 'mean').round()\n"
   ]
  },
  {
   "cell_type": "code",
   "execution_count": 64,
   "metadata": {},
   "outputs": [
    {
     "data": {
      "image/png": "[encoded data removed]",
      "text/plain": [
       "<Figure size 1152x648 with 2 Axes>"
      ]
     },
     "metadata": {
      "needs_background": "light"
     },
     "output_type": "display_data"
    }
   ],
   "source": [
    "# se grafica un mapa de calor a partir de result\n",
    "plt.figure(figsize=(16, 9))\n",
    "\n",
    "sns.heatmap(result, annot=True, fmt='0.1f', cmap=\"crest\", linewidth=.01)\n",
    "\n",
    "plt.title('LTV promedio de los/las Clientes.', fontsize= 16)\n",
    "plt.xlabel('Edad de la Cohorte', fontsize= 14)\n",
    "\n",
    "\n",
    "plt.show()"
   ]
  },
  {
   "cell_type": "code",
   "execution_count": 65,
   "metadata": {},
   "outputs": [
    {
     "data": {
      "text/plain": [
       "first_order_month\n",
       "2017-09-01    14.0\n",
       "2017-06-01    13.0\n",
       "2017-07-01     7.0\n",
       "2017-12-01     7.0\n",
       "2017-10-01     6.0\n",
       "2018-04-01     6.0\n",
       "2017-08-01     5.0\n",
       "2017-11-01     5.0\n",
       "2018-03-01     5.0\n",
       "2018-05-01     5.0\n",
       "2018-01-01     4.0\n",
       "2018-02-01     4.0\n",
       "2018-06-01     3.0\n",
       "dtype: float64"
      ]
     },
     "execution_count": 65,
     "metadata": {},
     "output_type": "execute_result"
    }
   ],
   "source": [
    "# se calcula el ltv total por cohorte\n",
    "result.sum(axis=1).round().sort_values(ascending= False)"
   ]
  },
  {
   "cell_type": "markdown",
   "metadata": {},
   "source": [
    "<div style=\"background-color: lightyellow; padding: 10px;\">\n",
    "\n",
    "<span style=\"color: darkblue;\">  \n",
    "    \n",
    "**Conclusiones:**  \n",
    "En primer mes de vida de las cohortes es donde los/las clientes aportan más ganancias a la empresa, desués el ltv disminuye. En las cohortes de junio de 2017 aumenta a 1 en su mes 4 de vida y se mantiene hasta el mes 11 de vida, la cohorte de septimebre también aumenta su LTV a 4 en el mes 4 de vida. Las cohortes que aporta más ganancias es la de junio y septiembre de 2017.  \n",
    " \n",
    "</span>\n",
    "    \n",
    "</div>"
   ]
  },
  {
   "cell_type": "markdown",
   "metadata": {},
   "source": [
    "## Informe de Marketing <a id='informe_marketing'></a>"
   ]
  },
  {
   "cell_type": "markdown",
   "metadata": {},
   "source": [
    "<div style=\"background-color: lightyellow; padding: 10px;\">\n",
    "\n",
    "<span style=\"color: darkblue;\">  \n",
    "    \n",
    "****  \n",
    "Se calculan los gastos totales en publicidad del Datarame `costs_us`, después se unirá el resultado al DataFrame `report`. Luego se calcula cuánto dinero se gastó a lo largo del tiempo, enseguida se hará el calculo del costo de adquisción de clientes de cada una de las fuentes. Luego se calcula el ROMI dividiendo el LTV (cantidad total de dinero que un cliente aporta a la empresa) entre el CAC (el costo de atraer a cada cliente).\n",
    "</span>\n",
    "    \n",
    "</div>"
   ]
  },
  {
   "cell_type": "code",
   "execution_count": 66,
   "metadata": {},
   "outputs": [
    {
     "data": {
      "text/html": [
       "<div>\n",
       "<style scoped>\n",
       "    .dataframe tbody tr th:only-of-type {\n",
       "        vertical-align: middle;\n",
       "    }\n",
       "\n",
       "    .dataframe tbody tr th {\n",
       "        vertical-align: top;\n",
       "    }\n",
       "\n",
       "    .dataframe thead th {\n",
       "        text-align: right;\n",
       "    }\n",
       "</style>\n",
       "<table border=\"1\" class=\"dataframe\">\n",
       "  <thead>\n",
       "    <tr style=\"text-align: right;\">\n",
       "      <th></th>\n",
       "      <th>dt</th>\n",
       "      <th>source_id</th>\n",
       "      <th>costs</th>\n",
       "    </tr>\n",
       "  </thead>\n",
       "  <tbody>\n",
       "    <tr>\n",
       "      <th>0</th>\n",
       "      <td>2017-06-01</td>\n",
       "      <td>1</td>\n",
       "      <td>75.20</td>\n",
       "    </tr>\n",
       "    <tr>\n",
       "      <th>1</th>\n",
       "      <td>2017-06-01</td>\n",
       "      <td>2</td>\n",
       "      <td>132.56</td>\n",
       "    </tr>\n",
       "    <tr>\n",
       "      <th>2</th>\n",
       "      <td>2017-06-01</td>\n",
       "      <td>3</td>\n",
       "      <td>349.38</td>\n",
       "    </tr>\n",
       "    <tr>\n",
       "      <th>3</th>\n",
       "      <td>2017-06-01</td>\n",
       "      <td>4</td>\n",
       "      <td>76.74</td>\n",
       "    </tr>\n",
       "    <tr>\n",
       "      <th>4</th>\n",
       "      <td>2017-06-01</td>\n",
       "      <td>5</td>\n",
       "      <td>73.24</td>\n",
       "    </tr>\n",
       "  </tbody>\n",
       "</table>\n",
       "</div>"
      ],
      "text/plain": [
       "          dt  source_id   costs\n",
       "0 2017-06-01          1   75.20\n",
       "1 2017-06-01          2  132.56\n",
       "2 2017-06-01          3  349.38\n",
       "3 2017-06-01          4   76.74\n",
       "4 2017-06-01          5   73.24"
      ]
     },
     "execution_count": 66,
     "metadata": {},
     "output_type": "execute_result"
    }
   ],
   "source": [
    "# se encuentra la suma total de los costos de marketing para cada mes y se guarda el resultado como monthly_costs\n",
    "monthly_costs = costs_us.groupby(['dt', 'source_id'])['costs'].sum().reset_index()\n",
    "monthly_costs.head()"
   ]
  },
  {
   "cell_type": "code",
   "execution_count": 67,
   "metadata": {},
   "outputs": [
    {
     "data": {
      "text/html": [
       "<div>\n",
       "<style scoped>\n",
       "    .dataframe tbody tr th:only-of-type {\n",
       "        vertical-align: middle;\n",
       "    }\n",
       "\n",
       "    .dataframe tbody tr th {\n",
       "        vertical-align: top;\n",
       "    }\n",
       "\n",
       "    .dataframe thead th {\n",
       "        text-align: right;\n",
       "    }\n",
       "</style>\n",
       "<table border=\"1\" class=\"dataframe\">\n",
       "  <thead>\n",
       "    <tr style=\"text-align: right;\">\n",
       "      <th></th>\n",
       "      <th>first_order_month</th>\n",
       "      <th>n_buyers</th>\n",
       "      <th>order_month</th>\n",
       "      <th>revenue</th>\n",
       "      <th>age</th>\n",
       "      <th>ltv</th>\n",
       "      <th>dt</th>\n",
       "      <th>source_id</th>\n",
       "      <th>costs</th>\n",
       "    </tr>\n",
       "  </thead>\n",
       "  <tbody>\n",
       "    <tr>\n",
       "      <th>0</th>\n",
       "      <td>2017-06-01</td>\n",
       "      <td>2023</td>\n",
       "      <td>2017-06-01</td>\n",
       "      <td>9557.49</td>\n",
       "      <td>0</td>\n",
       "      <td>4.724414</td>\n",
       "      <td>2017-06-01</td>\n",
       "      <td>1</td>\n",
       "      <td>75.20</td>\n",
       "    </tr>\n",
       "    <tr>\n",
       "      <th>1</th>\n",
       "      <td>2017-06-01</td>\n",
       "      <td>2023</td>\n",
       "      <td>2017-06-01</td>\n",
       "      <td>9557.49</td>\n",
       "      <td>0</td>\n",
       "      <td>4.724414</td>\n",
       "      <td>2017-06-01</td>\n",
       "      <td>2</td>\n",
       "      <td>132.56</td>\n",
       "    </tr>\n",
       "    <tr>\n",
       "      <th>2</th>\n",
       "      <td>2017-06-01</td>\n",
       "      <td>2023</td>\n",
       "      <td>2017-06-01</td>\n",
       "      <td>9557.49</td>\n",
       "      <td>0</td>\n",
       "      <td>4.724414</td>\n",
       "      <td>2017-06-01</td>\n",
       "      <td>3</td>\n",
       "      <td>349.38</td>\n",
       "    </tr>\n",
       "    <tr>\n",
       "      <th>3</th>\n",
       "      <td>2017-06-01</td>\n",
       "      <td>2023</td>\n",
       "      <td>2017-06-01</td>\n",
       "      <td>9557.49</td>\n",
       "      <td>0</td>\n",
       "      <td>4.724414</td>\n",
       "      <td>2017-06-01</td>\n",
       "      <td>4</td>\n",
       "      <td>76.74</td>\n",
       "    </tr>\n",
       "    <tr>\n",
       "      <th>4</th>\n",
       "      <td>2017-06-01</td>\n",
       "      <td>2023</td>\n",
       "      <td>2017-06-01</td>\n",
       "      <td>9557.49</td>\n",
       "      <td>0</td>\n",
       "      <td>4.724414</td>\n",
       "      <td>2017-06-01</td>\n",
       "      <td>5</td>\n",
       "      <td>73.24</td>\n",
       "    </tr>\n",
       "  </tbody>\n",
       "</table>\n",
       "</div>"
      ],
      "text/plain": [
       "  first_order_month  n_buyers order_month  revenue  age       ltv         dt  \\\n",
       "0        2017-06-01      2023  2017-06-01  9557.49    0  4.724414 2017-06-01   \n",
       "1        2017-06-01      2023  2017-06-01  9557.49    0  4.724414 2017-06-01   \n",
       "2        2017-06-01      2023  2017-06-01  9557.49    0  4.724414 2017-06-01   \n",
       "3        2017-06-01      2023  2017-06-01  9557.49    0  4.724414 2017-06-01   \n",
       "4        2017-06-01      2023  2017-06-01  9557.49    0  4.724414 2017-06-01   \n",
       "\n",
       "   source_id   costs  \n",
       "0          1   75.20  \n",
       "1          2  132.56  \n",
       "2          3  349.38  \n",
       "3          4   76.74  \n",
       "4          5   73.24  "
      ]
     },
     "execution_count": 67,
     "metadata": {},
     "output_type": "execute_result"
    }
   ],
   "source": [
    "# Agreguemos los datos sobre los costos al DataFrame 'report'\n",
    "report_with_costs = pd.merge(report, monthly_costs, left_on= 'order_month', right_on= 'dt')\n",
    "report_with_costs.head()\n"
   ]
  },
  {
   "cell_type": "code",
   "execution_count": 68,
   "metadata": {},
   "outputs": [
    {
     "data": {
      "text/plain": [
       "dt\n",
       "2018-03-01    14372.80\n",
       "2018-02-01    12408.84\n",
       "2017-12-01     7435.05\n",
       "2017-11-01     7418.46\n",
       "2018-05-01     7164.72\n",
       "2018-01-01     6868.72\n",
       "2017-10-01     5186.20\n",
       "2017-09-01     2155.04\n",
       "2017-08-01     1526.97\n",
       "2017-07-01      756.08\n",
       "2017-06-01      735.26\n",
       "Name: costs, dtype: float64"
      ]
     },
     "execution_count": 68,
     "metadata": {},
     "output_type": "execute_result"
    }
   ],
   "source": [
    "# Se agrupa el total de los costos de marketing a lo largo del tiempo\n",
    "source_costs = report_with_costs.groupby('dt')['costs'].sum().sort_values(ascending= False)\n",
    "source_costs"
   ]
  },
  {
   "cell_type": "code",
   "execution_count": 69,
   "metadata": {},
   "outputs": [
    {
     "data": {
      "image/png": "[encoded data removed]",
      "text/plain": [
       "<Figure size 864x576 with 1 Axes>"
      ]
     },
     "metadata": {
      "needs_background": "light"
     },
     "output_type": "display_data"
    }
   ],
   "source": [
    "# se grafican los costos totales a los largo del tiempo\n",
    "source_costs.plot(\n",
    "                  kind= 'line',\n",
    "                  figsize= [12,8],\n",
    "                  fontsize= 12,\n",
    "                  color= 'darkblue'\n",
    "                       )\n",
    "plt.title('Costos Totales a lo largo del tiempo', fontsize=15)\n",
    "plt.xlabel('Fecha', fontsize=15)\n",
    "plt.ylabel('Cantidad Total de Costos', fontsize=15)\n",
    "\n",
    "plt.show()"
   ]
  },
  {
   "cell_type": "code",
   "execution_count": 70,
   "metadata": {},
   "outputs": [
    {
     "data": {
      "text/html": [
       "<div>\n",
       "<style scoped>\n",
       "    .dataframe tbody tr th:only-of-type {\n",
       "        vertical-align: middle;\n",
       "    }\n",
       "\n",
       "    .dataframe tbody tr th {\n",
       "        vertical-align: top;\n",
       "    }\n",
       "\n",
       "    .dataframe thead th {\n",
       "        text-align: right;\n",
       "    }\n",
       "</style>\n",
       "<table border=\"1\" class=\"dataframe\">\n",
       "  <thead>\n",
       "    <tr style=\"text-align: right;\">\n",
       "      <th></th>\n",
       "      <th>first_order_month</th>\n",
       "      <th>n_buyers</th>\n",
       "      <th>order_month</th>\n",
       "      <th>revenue</th>\n",
       "      <th>age</th>\n",
       "      <th>ltv</th>\n",
       "      <th>dt</th>\n",
       "      <th>source_id</th>\n",
       "      <th>costs</th>\n",
       "      <th>cac</th>\n",
       "    </tr>\n",
       "  </thead>\n",
       "  <tbody>\n",
       "    <tr>\n",
       "      <th>0</th>\n",
       "      <td>2017-06-01</td>\n",
       "      <td>2023</td>\n",
       "      <td>2017-06-01</td>\n",
       "      <td>9557.49</td>\n",
       "      <td>0</td>\n",
       "      <td>4.724414</td>\n",
       "      <td>2017-06-01</td>\n",
       "      <td>1</td>\n",
       "      <td>75.20</td>\n",
       "      <td>0.037173</td>\n",
       "    </tr>\n",
       "    <tr>\n",
       "      <th>1</th>\n",
       "      <td>2017-06-01</td>\n",
       "      <td>2023</td>\n",
       "      <td>2017-06-01</td>\n",
       "      <td>9557.49</td>\n",
       "      <td>0</td>\n",
       "      <td>4.724414</td>\n",
       "      <td>2017-06-01</td>\n",
       "      <td>2</td>\n",
       "      <td>132.56</td>\n",
       "      <td>0.065526</td>\n",
       "    </tr>\n",
       "    <tr>\n",
       "      <th>2</th>\n",
       "      <td>2017-06-01</td>\n",
       "      <td>2023</td>\n",
       "      <td>2017-06-01</td>\n",
       "      <td>9557.49</td>\n",
       "      <td>0</td>\n",
       "      <td>4.724414</td>\n",
       "      <td>2017-06-01</td>\n",
       "      <td>3</td>\n",
       "      <td>349.38</td>\n",
       "      <td>0.172704</td>\n",
       "    </tr>\n",
       "    <tr>\n",
       "      <th>3</th>\n",
       "      <td>2017-06-01</td>\n",
       "      <td>2023</td>\n",
       "      <td>2017-06-01</td>\n",
       "      <td>9557.49</td>\n",
       "      <td>0</td>\n",
       "      <td>4.724414</td>\n",
       "      <td>2017-06-01</td>\n",
       "      <td>4</td>\n",
       "      <td>76.74</td>\n",
       "      <td>0.037934</td>\n",
       "    </tr>\n",
       "    <tr>\n",
       "      <th>4</th>\n",
       "      <td>2017-06-01</td>\n",
       "      <td>2023</td>\n",
       "      <td>2017-06-01</td>\n",
       "      <td>9557.49</td>\n",
       "      <td>0</td>\n",
       "      <td>4.724414</td>\n",
       "      <td>2017-06-01</td>\n",
       "      <td>5</td>\n",
       "      <td>73.24</td>\n",
       "      <td>0.036204</td>\n",
       "    </tr>\n",
       "  </tbody>\n",
       "</table>\n",
       "</div>"
      ],
      "text/plain": [
       "  first_order_month  n_buyers order_month  revenue  age       ltv         dt  \\\n",
       "0        2017-06-01      2023  2017-06-01  9557.49    0  4.724414 2017-06-01   \n",
       "1        2017-06-01      2023  2017-06-01  9557.49    0  4.724414 2017-06-01   \n",
       "2        2017-06-01      2023  2017-06-01  9557.49    0  4.724414 2017-06-01   \n",
       "3        2017-06-01      2023  2017-06-01  9557.49    0  4.724414 2017-06-01   \n",
       "4        2017-06-01      2023  2017-06-01  9557.49    0  4.724414 2017-06-01   \n",
       "\n",
       "   source_id   costs       cac  \n",
       "0          1   75.20  0.037173  \n",
       "1          2  132.56  0.065526  \n",
       "2          3  349.38  0.172704  \n",
       "3          4   76.74  0.037934  \n",
       "4          5   73.24  0.036204  "
      ]
     },
     "execution_count": 70,
     "metadata": {},
     "output_type": "execute_result"
    }
   ],
   "source": [
    "# Agregamos una columna para calcular el CAC (costo de adquisición de clientes/as)\n",
    "report_with_costs['cac'] = report_with_costs['costs'] / report_with_costs['n_buyers']\n",
    "report_with_costs.head()"
   ]
  },
  {
   "cell_type": "code",
   "execution_count": 71,
   "metadata": {},
   "outputs": [
    {
     "data": {
      "text/plain": [
       "source_id\n",
       "3     12.468799\n",
       "5      4.501698\n",
       "4      3.714151\n",
       "2      3.518477\n",
       "1      1.668647\n",
       "9      0.512340\n",
       "10     0.435064\n",
       "Name: cac, dtype: float64"
      ]
     },
     "execution_count": 71,
     "metadata": {},
     "output_type": "execute_result"
    }
   ],
   "source": [
    "# se agrupan la suma del costo de adquisición por la fuente del anuncio\n",
    "cac_by_source = report_with_costs.groupby('source_id')['cac'].sum().sort_values(ascending= False)\n",
    "cac_by_source"
   ]
  },
  {
   "cell_type": "code",
   "execution_count": 72,
   "metadata": {
    "scrolled": false
   },
   "outputs": [
    {
     "data": {
      "image/png": "[encoded data removed]",
      "text/plain": [
       "<Figure size 720x432 with 1 Axes>"
      ]
     },
     "metadata": {
      "needs_background": "light"
     },
     "output_type": "display_data"
    }
   ],
   "source": [
    "# se grafican el cac por fuente del anuncio\n",
    "cac_by_source.plot(\n",
    "                  kind= 'bar',\n",
    "                  figsize= [10,6],\n",
    "                  fontsize= 12,\n",
    "                  rot= 0,\n",
    "                  color= 'darkblue'\n",
    "                       )\n",
    "plt.title('Costo de Adquisición por Fuente del Anuncio', fontsize=15)\n",
    "plt.xlabel('Fuente del Anuncio', fontsize=15)\n",
    "plt.ylabel('Costo de Adquisición', fontsize=15)\n",
    "\n",
    "plt.show()"
   ]
  },
  {
   "cell_type": "code",
   "execution_count": 73,
   "metadata": {},
   "outputs": [
    {
     "data": {
      "text/html": [
       "<div>\n",
       "<style scoped>\n",
       "    .dataframe tbody tr th:only-of-type {\n",
       "        vertical-align: middle;\n",
       "    }\n",
       "\n",
       "    .dataframe tbody tr th {\n",
       "        vertical-align: top;\n",
       "    }\n",
       "\n",
       "    .dataframe thead th {\n",
       "        text-align: right;\n",
       "    }\n",
       "</style>\n",
       "<table border=\"1\" class=\"dataframe\">\n",
       "  <thead>\n",
       "    <tr style=\"text-align: right;\">\n",
       "      <th></th>\n",
       "      <th>first_order_month</th>\n",
       "      <th>n_buyers</th>\n",
       "      <th>order_month</th>\n",
       "      <th>revenue</th>\n",
       "      <th>age</th>\n",
       "      <th>ltv</th>\n",
       "      <th>dt</th>\n",
       "      <th>source_id</th>\n",
       "      <th>costs</th>\n",
       "      <th>cac</th>\n",
       "      <th>romi</th>\n",
       "    </tr>\n",
       "  </thead>\n",
       "  <tbody>\n",
       "    <tr>\n",
       "      <th>0</th>\n",
       "      <td>2017-06-01</td>\n",
       "      <td>2023</td>\n",
       "      <td>2017-06-01</td>\n",
       "      <td>9557.49</td>\n",
       "      <td>0</td>\n",
       "      <td>4.724414</td>\n",
       "      <td>2017-06-01</td>\n",
       "      <td>1</td>\n",
       "      <td>75.20</td>\n",
       "      <td>0.037173</td>\n",
       "      <td>127.094282</td>\n",
       "    </tr>\n",
       "    <tr>\n",
       "      <th>1</th>\n",
       "      <td>2017-06-01</td>\n",
       "      <td>2023</td>\n",
       "      <td>2017-06-01</td>\n",
       "      <td>9557.49</td>\n",
       "      <td>0</td>\n",
       "      <td>4.724414</td>\n",
       "      <td>2017-06-01</td>\n",
       "      <td>2</td>\n",
       "      <td>132.56</td>\n",
       "      <td>0.065526</td>\n",
       "      <td>72.099351</td>\n",
       "    </tr>\n",
       "    <tr>\n",
       "      <th>2</th>\n",
       "      <td>2017-06-01</td>\n",
       "      <td>2023</td>\n",
       "      <td>2017-06-01</td>\n",
       "      <td>9557.49</td>\n",
       "      <td>0</td>\n",
       "      <td>4.724414</td>\n",
       "      <td>2017-06-01</td>\n",
       "      <td>3</td>\n",
       "      <td>349.38</td>\n",
       "      <td>0.172704</td>\n",
       "      <td>27.355573</td>\n",
       "    </tr>\n",
       "    <tr>\n",
       "      <th>3</th>\n",
       "      <td>2017-06-01</td>\n",
       "      <td>2023</td>\n",
       "      <td>2017-06-01</td>\n",
       "      <td>9557.49</td>\n",
       "      <td>0</td>\n",
       "      <td>4.724414</td>\n",
       "      <td>2017-06-01</td>\n",
       "      <td>4</td>\n",
       "      <td>76.74</td>\n",
       "      <td>0.037934</td>\n",
       "      <td>124.543784</td>\n",
       "    </tr>\n",
       "    <tr>\n",
       "      <th>4</th>\n",
       "      <td>2017-06-01</td>\n",
       "      <td>2023</td>\n",
       "      <td>2017-06-01</td>\n",
       "      <td>9557.49</td>\n",
       "      <td>0</td>\n",
       "      <td>4.724414</td>\n",
       "      <td>2017-06-01</td>\n",
       "      <td>5</td>\n",
       "      <td>73.24</td>\n",
       "      <td>0.036204</td>\n",
       "      <td>130.495494</td>\n",
       "    </tr>\n",
       "  </tbody>\n",
       "</table>\n",
       "</div>"
      ],
      "text/plain": [
       "  first_order_month  n_buyers order_month  revenue  age       ltv         dt  \\\n",
       "0        2017-06-01      2023  2017-06-01  9557.49    0  4.724414 2017-06-01   \n",
       "1        2017-06-01      2023  2017-06-01  9557.49    0  4.724414 2017-06-01   \n",
       "2        2017-06-01      2023  2017-06-01  9557.49    0  4.724414 2017-06-01   \n",
       "3        2017-06-01      2023  2017-06-01  9557.49    0  4.724414 2017-06-01   \n",
       "4        2017-06-01      2023  2017-06-01  9557.49    0  4.724414 2017-06-01   \n",
       "\n",
       "   source_id   costs       cac        romi  \n",
       "0          1   75.20  0.037173  127.094282  \n",
       "1          2  132.56  0.065526   72.099351  \n",
       "2          3  349.38  0.172704   27.355573  \n",
       "3          4   76.74  0.037934  124.543784  \n",
       "4          5   73.24  0.036204  130.495494  "
      ]
     },
     "execution_count": 73,
     "metadata": {},
     "output_type": "execute_result"
    }
   ],
   "source": [
    "# se calcula el ROMI (retorno de la inversión en marketing, o return on marketing investment en inglés) \n",
    "# se divide el LTV por el CAC\n",
    "report_with_costs['romi'] = report_with_costs['ltv'] / report_with_costs['cac']\n",
    "report_with_costs.head()"
   ]
  },
  {
   "cell_type": "code",
   "execution_count": 74,
   "metadata": {
    "scrolled": false
   },
   "outputs": [],
   "source": [
    "result_romi = report_with_costs.pivot_table(index='first_order_month', \n",
    "                             columns='age', \n",
    "                             values='romi', \n",
    "                             aggfunc='mean')"
   ]
  },
  {
   "cell_type": "code",
   "execution_count": 75,
   "metadata": {
    "scrolled": false
   },
   "outputs": [
    {
     "data": {
      "image/png": "[encoded data removed]",
      "text/plain": [
       "<Figure size 1152x648 with 2 Axes>"
      ]
     },
     "metadata": {
      "needs_background": "light"
     },
     "output_type": "display_data"
    }
   ],
   "source": [
    "# se grafica un mapa de calor a partir de result_romi\n",
    "plt.figure(figsize=(16, 9))\n",
    "\n",
    "sns.heatmap(result_romi, annot=True, fmt='0.0f', cmap=\"crest\", linewidth=.01)\n",
    "\n",
    "plt.title('LTV promedio de los/las Clientes.', fontsize= 16)\n",
    "plt.xlabel('Edad de la Cohorte', fontsize= 14)\n",
    "\n",
    "\n",
    "plt.show()"
   ]
  },
  {
   "cell_type": "markdown",
   "metadata": {},
   "source": [
    "<div style=\"background-color: lightyellow; padding: 10px;\">\n",
    "\n",
    "<span style=\"color: darkblue;\">  \n",
    "    \n",
    "**Conclusiones:**  \n",
    "El total de dinero gastado fue en el mes de marzo y febrero de 2018, con 14,372 y 12,408, respectivmente; los meses con menor gasto fueron julio y junio de 2017 con 756 y 735, respectivamente.  \n",
    "El costo de atraer a cada cliente por fuente de anuncio fueron la 3, 5 y 4 con 12.5, 4.5 y 3.8, respectivamente.  \n",
    "El ROMI, nos dice la rentabilidad de la inversión en marketing, en el primer mes de vida en todas las cohortes se recuperaron los gastos e incluso generaron un beneficio muy alto.  Las cohortes que generaron un mayor beneficio fueron las de julio, septiembre, octubre de 2017 y las de marzo y mayo del 2018. Después del primer ciclo de vida el ROMI es menor, sin embargo, los gastos en publicidad se recuperaron.\n",
    " \n",
    "</span>\n",
    "    \n",
    "</div>"
   ]
  },
  {
   "cell_type": "markdown",
   "metadata": {},
   "source": [
    "## Resumen y Conclusión General <a id='end'></a>"
   ]
  },
  {
   "cell_type": "markdown",
   "metadata": {},
   "source": [
    "<div style=\"background-color: lightyellow; padding: 10px;\">\n",
    "\n",
    "<span style=\"color: darkblue;\">\n",
    "    \n",
    "**Resumen General de los pasos seguidos:**  \n",
    "1. Se descargaron los datos y se prepararon para el análisis.  \n",
    "2. Se almacenaron los datos de visitas, pedidos y gastos.  \n",
    "3. Se optimizaron los datos para el análisis, que cada columna contenga el tipo de datos correcto.  \n",
    "4. Se buscaron valores ausentes y duplicados.    \n",
    "5. Se hicieron los cálculos correspondientes para el informe del producto, el número de usuarios activos por día, semana y mes, la cantidad de sesiones por usuario, la duración de las sesiones en minutos.  \n",
    "6. Para el informe de ventas se calculo el tiempo que transcurre entre el registro del usuario/usuaria y su primera compra (tiempo de conversión), luego se categorizaron de acuerdo al tiempo de conversión.   \n",
    "7. Después se calcularon el total de pedidos por mes y el promedio de pedidos por usuario/usuaria., también se calculó el LTV.  8. Para el informe de marketing se calcularon los gastos totales y cuaánto se gastó a lo largo del tiempo. Después se calculó el costo de adquisición de los/las clientes y el ROMI .  \n",
    "\n",
    "    \n",
    "</span>\n",
    "\n",
    "</div>"
   ]
  },
  {
   "cell_type": "markdown",
   "metadata": {},
   "source": [
    "<div style=\"background-color: lightyellow; padding: 10px;\">\n",
    "\n",
    "\n",
    "<span style=\"color: darkblue;\">\n",
    "    \n",
    "**Conclusión General:**  \n",
    "1. La cantidad de usuarios activos diarios, semanales y mensuales muestra una participación constante (908, 5,825 y 23,228, respectivamente), sin embargo, el factor de adherencia semanal y mensual es bajo, de 0.155 y 0.039, respectivamente. Por tanto, hay área de oportunidad para incrementar dicho valor, si es lo que se desea.  \n",
    "    \n",
    "2. La duración promedio de las sesiones es de 1 minuto, no obstante, hay algunos valores atípicos que requieren revisión para determinar si son errores o sesiones dejadas abiertas.  \n",
    "    \n",
    "3. La mayoría de las conversiones (primeros pedidos de las/los clientes), sin embargo, hay usuarios y usuarias que hacen el primer pedido  hasta los 4 meses. Por lo que se puede sugerir hacer unainvestigación por que dichos clientes tardan 4 meses en hacer su primer pedido.  \n",
    "    \n",
    "4. El análisis de cohortes revela algunos patrones de comportamiento de acuerdo a la fuente de anuncios, sugiriendo oportunidades para centrar esfuerzos en fuentes más efectivas, que son las 4, 3 y 5.  \n",
    "    \n",
    "5. La cantidad de pedidos es más alta en los meses festivos como octubre, noviembre y diciembre, siendo diciembre el mes con más pedidos con 6,000 aproximadamente.  \n",
    "    \n",
    "6. El LTV alcanza su punto máximo en el primer mes de vida de las cohortes y disminuye con el tiempo, destacando la importancia de las primeras interacciones con los clientes.  \n",
    "    \n",
    "7. Los meses de marzo y febrero de 2018 registraron el mayor gasto en publicidad, mientras que en julio y junio de 2017 tuvieron los gastos más bajos.  \n",
    "    \n",
    "8. El costo de adquisición por cliente varía entre el tipo de fuentes de anuncios, destacando las fuentes 3, 5 y 4 como más eficientes en términos de costos, las cuales coiciden o son las que tienen mayor cantidad de pedidos a lo largo del tiempo.  \n",
    "    \n",
    "9. Con base en el valor de ROMI indica una rentabilidad positiva en el primer mes de vida de las cohortes, pero disminuye en los ciclos posteriores. Sin embargo, se logran recuperar los gastos en publicidad, por tanto, la campaña de publicidad es bastante excepcional y sugiere fue altamente rentable.  \n",
    "    \n",
    "Con base en los resultados, se aprecia que hay una oportunidad para mejorar la retención de los usuarios, enfatizar las estrategias de marketing en las fuentes más efectivas que son las 3,4 y 5, y optimizar los costos de adquisición para mantener una buena rentabilidad.\n",
    "    \n",
    " \n",
    "\n",
    "    \n",
    "</span>\n",
    "\n",
    "</div>"
   ]
  },
  {
   "cell_type": "code",
   "execution_count": null,
   "metadata": {},
   "outputs": [],
   "source": []
  }
 ],
 "metadata": {
  "kernelspec": {
   "display_name": "Python 3 (ipykernel)",
   "language": "python",
   "name": "python3"
  },
  "language_info": {
   "codemirror_mode": {
    "name": "ipython",
    "version": 3
   },
   "file_extension": ".py",
   "mimetype": "text/x-python",
   "name": "python",
   "nbconvert_exporter": "python",
   "pygments_lexer": "ipython3",
   "version": "3.9.5"
  },
  "toc": {
   "base_numbering": 1,
   "nav_menu": {},
   "number_sections": true,
   "sideBar": true,
   "skip_h1_title": true,
   "title_cell": "Table of Contents",
   "title_sidebar": "Contents",
   "toc_cell": false,
   "toc_position": {},
   "toc_section_display": true,
   "toc_window_display": false
  }
 },
 "nbformat": 4,
 "nbformat_minor": 2
}
